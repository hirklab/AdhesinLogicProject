{
 "cells": [
  {
   "cell_type": "code",
   "execution_count": 1,
   "metadata": {},
   "outputs": [],
   "source": [
    "import numpy as np\n",
    "import matplotlib.pyplot as plt\n",
    "import h5py\n",
    "import time\n",
    "from IPython import display\n",
    "\n",
    "from dedalus import public as de\n",
    "from dedalus.extras import flow_tools\n",
    "\n",
    "import logging\n",
    "logger = logging.getLogger(__name__)"
   ]
  },
  {
   "cell_type": "code",
   "execution_count": 2,
   "metadata": {},
   "outputs": [],
   "source": [
    "Lx = 10.5\n",
    "nx = 256\n",
    "\n",
    "x_basis = de.Fourier('x', nx, interval=(0, Lx), dealias=3/2)\n",
    "domain = de.Domain([x_basis], grid_dtype=np.float64)"
   ]
  },
  {
   "cell_type": "code",
   "execution_count": 3,
   "metadata": {},
   "outputs": [],
   "source": [
    "params = np.load('Parameters.npz')\n",
    "Diff = params['Diff'].flat[0]\n",
    "Km =  params['K'].flat[0]\n",
    "g = params['g'].flat[0]\n",
    "\n",
    "problem = de.IVP(domain, variables=['rho1','rho2','rho12','rho3'])\n",
    "problem.parameters['D0'] = Diff\n",
    "problem.parameters['K'] = Km\n",
    "problem.parameters['g0'] = g\n",
    "\n",
    "problem.substitutions['rho_b'] = \"rho1+rho2 + rho3 + rho12\" \n",
    "problem.substitutions[\"Lap(A)\"] = \"dx(dx(A))\"\n",
    "\n",
    "problem.substitutions[\"grow_non_lin(A,B)\"] = \"-A*B\"\n",
    "\n",
    "problem.add_equation(\"dt(rho1) - g0*rho1 - D0*Lap(rho1) = g0*grow_non_lin(rho1,rho_b) - K*rho1*rho2\")\n",
    "problem.add_equation(\"dt(rho2) - g0*rho2 - D0*Lap(rho2) = g0*grow_non_lin(rho2,rho_b) - K*rho1*rho2\")\n",
    "problem.add_equation(\"dt(rho3) - g0*rho3 - D0*Lap(rho3) = g0*grow_non_lin(rho3,rho_b) \")\n",
    "problem.add_equation(\"dt(rho12)  = 2*K*rho1*rho2\")"
   ]
  },
  {
   "cell_type": "code",
   "execution_count": 4,
   "metadata": {},
   "outputs": [],
   "source": [
    "ts = de.timesteppers.RK443"
   ]
  },
  {
   "cell_type": "code",
   "execution_count": 5,
   "metadata": {},
   "outputs": [
    {
     "name": "stdout",
     "output_type": "stream",
     "text": [
      "2021-10-18 12:58:11,154 pencil 0/1 INFO :: Building pencil matrix 1/1 (~100%) Elapsed: 0s, Remaining: 0s, Rate: 4.1e+01/s\n"
     ]
    }
   ],
   "source": [
    "solver =  problem.build_solver(ts)"
   ]
  },
  {
   "cell_type": "code",
   "execution_count": 6,
   "metadata": {},
   "outputs": [],
   "source": [
    "x = domain.grid(0)\n",
    "#y = domain.grid(1)\n",
    "rho1 = solver.state['rho1']\n",
    "rho2 = solver.state['rho2']\n",
    "rho3 = solver.state['rho3']\n",
    "rho12 = solver.state['rho12']\n",
    "\n",
    "\n",
    "def r(x,y,x0,y0):\n",
    "    return np.sqrt((x-x0)**2+(y-y0)**2)\n",
    "\n",
    "def blob(x,y,x0,y0,r0,w):\n",
    "    return 0.5*(1 - np.tanh((r(x,y,x0,y0)-r0)/w))\n",
    "\n",
    "def r(x,x0):\n",
    "    return np.sqrt((x-x0)**2)\n",
    "\n",
    "def blob(x,x0,r0,w):\n",
    "    return 0.5*(1 - np.tanh((r(x,x0)-r0)/w))\n",
    "\n",
    "r0 = 0.75\n",
    "w = 0.15\n",
    "\n",
    "rho1['g'] = blob(x,2,r0,w)\n",
    "rho2['g'] = 0.5*blob(x,7,r0,w)\n",
    "rho3['g'] = 0.5*blob(x,7,r0,w)"
   ]
  },
  {
   "cell_type": "code",
   "execution_count": 7,
   "metadata": {},
   "outputs": [],
   "source": [
    "solver.stop_sim_time = 80\n",
    "dt = 0.3*Lx/nx"
   ]
  },
  {
   "cell_type": "code",
   "execution_count": 8,
   "metadata": {},
   "outputs": [],
   "source": [
    "analysis = solver.evaluator.add_file_handler('interact_3', sim_dt=1, max_writes=500)\n",
    "analysis.add_task('rho1')\n",
    "analysis.add_task('rho2')\n",
    "analysis.add_task('rho12')\n",
    "analysis.add_task('rho3')"
   ]
  },
  {
   "cell_type": "code",
   "execution_count": 10,
   "metadata": {},
   "outputs": [
    {
     "name": "stdout",
     "output_type": "stream",
     "text": [
      "2021-10-18 12:58:11,448 __main__ 0/1 INFO :: Starting loop\n"
     ]
    },
    {
     "name": "stderr",
     "output_type": "stream",
     "text": [
      "/Users/dominic/miniconda3/envs/dedalus/lib/python3.8/site-packages/dedalus/core/evaluator.py:533: H5pyDeprecationWarning: other_ds.dims.create_scale(ds, name) is deprecated. Use ds.make_scale(name) instead.\n",
      "  dset.dims.create_scale(scale, sn)\n",
      "/Users/dominic/miniconda3/envs/dedalus/lib/python3.8/site-packages/dedalus/core/evaluator.py:550: H5pyDeprecationWarning: other_ds.dims.create_scale(ds, name) is deprecated. Use ds.make_scale(name) instead.\n",
      "  dset.dims.create_scale(scale, lookup)\n"
     ]
    },
    {
     "name": "stdout",
     "output_type": "stream",
     "text": [
      "2021-10-18 12:58:12,144 __main__ 0/1 INFO :: Iteration: 50, Time: 6.152344e-01, dt: 1.230469e-02\n",
      "2021-10-18 12:58:12,490 __main__ 0/1 INFO :: Iteration: 100, Time: 1.230469e+00, dt: 1.230469e-02\n",
      "2021-10-18 12:58:12,856 __main__ 0/1 INFO :: Iteration: 150, Time: 1.845703e+00, dt: 1.230469e-02\n",
      "2021-10-18 12:58:13,195 __main__ 0/1 INFO :: Iteration: 200, Time: 2.460937e+00, dt: 1.230469e-02\n",
      "2021-10-18 12:58:13,530 __main__ 0/1 INFO :: Iteration: 250, Time: 3.076172e+00, dt: 1.230469e-02\n",
      "2021-10-18 12:58:13,850 __main__ 0/1 INFO :: Iteration: 300, Time: 3.691406e+00, dt: 1.230469e-02\n",
      "2021-10-18 12:58:14,186 __main__ 0/1 INFO :: Iteration: 350, Time: 4.306641e+00, dt: 1.230469e-02\n",
      "2021-10-18 12:58:14,516 __main__ 0/1 INFO :: Iteration: 400, Time: 4.921875e+00, dt: 1.230469e-02\n",
      "2021-10-18 12:58:14,851 __main__ 0/1 INFO :: Iteration: 450, Time: 5.537109e+00, dt: 1.230469e-02\n",
      "2021-10-18 12:58:15,190 __main__ 0/1 INFO :: Iteration: 500, Time: 6.152344e+00, dt: 1.230469e-02\n",
      "2021-10-18 12:58:15,518 __main__ 0/1 INFO :: Iteration: 550, Time: 6.767578e+00, dt: 1.230469e-02\n",
      "2021-10-18 12:58:15,851 __main__ 0/1 INFO :: Iteration: 600, Time: 7.382813e+00, dt: 1.230469e-02\n",
      "2021-10-18 12:58:16,179 __main__ 0/1 INFO :: Iteration: 650, Time: 7.998047e+00, dt: 1.230469e-02\n",
      "2021-10-18 12:58:16,517 __main__ 0/1 INFO :: Iteration: 700, Time: 8.613281e+00, dt: 1.230469e-02\n",
      "2021-10-18 12:58:16,854 __main__ 0/1 INFO :: Iteration: 750, Time: 9.228516e+00, dt: 1.230469e-02\n",
      "2021-10-18 12:58:17,181 __main__ 0/1 INFO :: Iteration: 800, Time: 9.843750e+00, dt: 1.230469e-02\n",
      "2021-10-18 12:58:17,515 __main__ 0/1 INFO :: Iteration: 850, Time: 1.045898e+01, dt: 1.230469e-02\n",
      "2021-10-18 12:58:17,848 __main__ 0/1 INFO :: Iteration: 900, Time: 1.107422e+01, dt: 1.230469e-02\n",
      "2021-10-18 12:58:18,175 __main__ 0/1 INFO :: Iteration: 950, Time: 1.168945e+01, dt: 1.230469e-02\n",
      "2021-10-18 12:58:18,512 __main__ 0/1 INFO :: Iteration: 1000, Time: 1.230469e+01, dt: 1.230469e-02\n",
      "2021-10-18 12:58:18,838 __main__ 0/1 INFO :: Iteration: 1050, Time: 1.291992e+01, dt: 1.230469e-02\n",
      "2021-10-18 12:58:19,173 __main__ 0/1 INFO :: Iteration: 1100, Time: 1.353516e+01, dt: 1.230469e-02\n",
      "2021-10-18 12:58:19,507 __main__ 0/1 INFO :: Iteration: 1150, Time: 1.415039e+01, dt: 1.230469e-02\n",
      "2021-10-18 12:58:19,832 __main__ 0/1 INFO :: Iteration: 1200, Time: 1.476563e+01, dt: 1.230469e-02\n",
      "2021-10-18 12:58:20,165 __main__ 0/1 INFO :: Iteration: 1250, Time: 1.538086e+01, dt: 1.230469e-02\n",
      "2021-10-18 12:58:20,497 __main__ 0/1 INFO :: Iteration: 1300, Time: 1.599609e+01, dt: 1.230469e-02\n",
      "2021-10-18 12:58:20,835 __main__ 0/1 INFO :: Iteration: 1350, Time: 1.661133e+01, dt: 1.230469e-02\n",
      "2021-10-18 12:58:21,172 __main__ 0/1 INFO :: Iteration: 1400, Time: 1.722656e+01, dt: 1.230469e-02\n",
      "2021-10-18 12:58:21,553 __main__ 0/1 INFO :: Iteration: 1450, Time: 1.784180e+01, dt: 1.230469e-02\n",
      "2021-10-18 12:58:21,917 __main__ 0/1 INFO :: Iteration: 1500, Time: 1.845703e+01, dt: 1.230469e-02\n",
      "2021-10-18 12:58:22,270 __main__ 0/1 INFO :: Iteration: 1550, Time: 1.907227e+01, dt: 1.230469e-02\n",
      "2021-10-18 12:58:22,601 __main__ 0/1 INFO :: Iteration: 1600, Time: 1.968750e+01, dt: 1.230469e-02\n",
      "2021-10-18 12:58:22,934 __main__ 0/1 INFO :: Iteration: 1650, Time: 2.030273e+01, dt: 1.230469e-02\n",
      "2021-10-18 12:58:23,296 __main__ 0/1 INFO :: Iteration: 1700, Time: 2.091797e+01, dt: 1.230469e-02\n",
      "2021-10-18 12:58:23,659 __main__ 0/1 INFO :: Iteration: 1750, Time: 2.153320e+01, dt: 1.230469e-02\n",
      "2021-10-18 12:58:24,015 __main__ 0/1 INFO :: Iteration: 1800, Time: 2.214844e+01, dt: 1.230469e-02\n",
      "2021-10-18 12:58:24,345 __main__ 0/1 INFO :: Iteration: 1850, Time: 2.276367e+01, dt: 1.230469e-02\n",
      "2021-10-18 12:58:24,685 __main__ 0/1 INFO :: Iteration: 1900, Time: 2.337891e+01, dt: 1.230469e-02\n",
      "2021-10-18 12:58:25,013 __main__ 0/1 INFO :: Iteration: 1950, Time: 2.399414e+01, dt: 1.230469e-02\n",
      "2021-10-18 12:58:25,340 __main__ 0/1 INFO :: Iteration: 2000, Time: 2.460937e+01, dt: 1.230469e-02\n",
      "2021-10-18 12:58:25,671 __main__ 0/1 INFO :: Iteration: 2050, Time: 2.522461e+01, dt: 1.230469e-02\n",
      "2021-10-18 12:58:25,997 __main__ 0/1 INFO :: Iteration: 2100, Time: 2.583984e+01, dt: 1.230469e-02\n",
      "2021-10-18 12:58:26,329 __main__ 0/1 INFO :: Iteration: 2150, Time: 2.645508e+01, dt: 1.230469e-02\n",
      "2021-10-18 12:58:26,663 __main__ 0/1 INFO :: Iteration: 2200, Time: 2.707031e+01, dt: 1.230469e-02\n",
      "2021-10-18 12:58:26,989 __main__ 0/1 INFO :: Iteration: 2250, Time: 2.768555e+01, dt: 1.230469e-02\n",
      "2021-10-18 12:58:27,322 __main__ 0/1 INFO :: Iteration: 2300, Time: 2.830078e+01, dt: 1.230469e-02\n",
      "2021-10-18 12:58:27,646 __main__ 0/1 INFO :: Iteration: 2350, Time: 2.891602e+01, dt: 1.230469e-02\n",
      "2021-10-18 12:58:27,979 __main__ 0/1 INFO :: Iteration: 2400, Time: 2.953125e+01, dt: 1.230469e-02\n",
      "2021-10-18 12:58:28,314 __main__ 0/1 INFO :: Iteration: 2450, Time: 3.014648e+01, dt: 1.230469e-02\n",
      "2021-10-18 12:58:28,643 __main__ 0/1 INFO :: Iteration: 2500, Time: 3.076172e+01, dt: 1.230469e-02\n",
      "2021-10-18 12:58:28,984 __main__ 0/1 INFO :: Iteration: 2550, Time: 3.137695e+01, dt: 1.230469e-02\n",
      "2021-10-18 12:58:29,315 __main__ 0/1 INFO :: Iteration: 2600, Time: 3.199219e+01, dt: 1.230469e-02\n",
      "2021-10-18 12:58:29,653 __main__ 0/1 INFO :: Iteration: 2650, Time: 3.260742e+01, dt: 1.230469e-02\n",
      "2021-10-18 12:58:30,009 __main__ 0/1 INFO :: Iteration: 2700, Time: 3.322266e+01, dt: 1.230469e-02\n",
      "2021-10-18 12:58:30,349 __main__ 0/1 INFO :: Iteration: 2750, Time: 3.383789e+01, dt: 1.230469e-02\n",
      "2021-10-18 12:58:30,718 __main__ 0/1 INFO :: Iteration: 2800, Time: 3.445312e+01, dt: 1.230469e-02\n",
      "2021-10-18 12:58:31,121 __main__ 0/1 INFO :: Iteration: 2850, Time: 3.506836e+01, dt: 1.230469e-02\n",
      "2021-10-18 12:58:31,460 __main__ 0/1 INFO :: Iteration: 2900, Time: 3.568359e+01, dt: 1.230469e-02\n",
      "2021-10-18 12:58:31,789 __main__ 0/1 INFO :: Iteration: 2950, Time: 3.629883e+01, dt: 1.230469e-02\n",
      "2021-10-18 12:58:32,117 __main__ 0/1 INFO :: Iteration: 3000, Time: 3.691406e+01, dt: 1.230469e-02\n",
      "2021-10-18 12:58:32,449 __main__ 0/1 INFO :: Iteration: 3050, Time: 3.752930e+01, dt: 1.230469e-02\n",
      "2021-10-18 12:58:32,779 __main__ 0/1 INFO :: Iteration: 3100, Time: 3.814453e+01, dt: 1.230469e-02\n",
      "2021-10-18 12:58:33,108 __main__ 0/1 INFO :: Iteration: 3150, Time: 3.875977e+01, dt: 1.230469e-02\n",
      "2021-10-18 12:58:33,437 __main__ 0/1 INFO :: Iteration: 3200, Time: 3.937500e+01, dt: 1.230469e-02\n",
      "2021-10-18 12:58:33,755 __main__ 0/1 INFO :: Iteration: 3250, Time: 3.999023e+01, dt: 1.230469e-02\n",
      "2021-10-18 12:58:34,084 __main__ 0/1 INFO :: Iteration: 3300, Time: 4.060547e+01, dt: 1.230469e-02\n",
      "2021-10-18 12:58:34,411 __main__ 0/1 INFO :: Iteration: 3350, Time: 4.122070e+01, dt: 1.230469e-02\n",
      "2021-10-18 12:58:34,733 __main__ 0/1 INFO :: Iteration: 3400, Time: 4.183594e+01, dt: 1.230469e-02\n",
      "2021-10-18 12:58:35,062 __main__ 0/1 INFO :: Iteration: 3450, Time: 4.245117e+01, dt: 1.230469e-02\n",
      "2021-10-18 12:58:35,391 __main__ 0/1 INFO :: Iteration: 3500, Time: 4.306641e+01, dt: 1.230469e-02\n",
      "2021-10-18 12:58:35,712 __main__ 0/1 INFO :: Iteration: 3550, Time: 4.368164e+01, dt: 1.230469e-02\n",
      "2021-10-18 12:58:36,045 __main__ 0/1 INFO :: Iteration: 3600, Time: 4.429687e+01, dt: 1.230469e-02\n",
      "2021-10-18 12:58:36,370 __main__ 0/1 INFO :: Iteration: 3650, Time: 4.491211e+01, dt: 1.230469e-02\n",
      "2021-10-18 12:58:36,698 __main__ 0/1 INFO :: Iteration: 3700, Time: 4.552734e+01, dt: 1.230469e-02\n",
      "2021-10-18 12:58:37,026 __main__ 0/1 INFO :: Iteration: 3750, Time: 4.614258e+01, dt: 1.230469e-02\n",
      "2021-10-18 12:58:37,344 __main__ 0/1 INFO :: Iteration: 3800, Time: 4.675781e+01, dt: 1.230469e-02\n",
      "2021-10-18 12:58:37,690 __main__ 0/1 INFO :: Iteration: 3850, Time: 4.737305e+01, dt: 1.230469e-02\n",
      "2021-10-18 12:58:38,030 __main__ 0/1 INFO :: Iteration: 3900, Time: 4.798828e+01, dt: 1.230469e-02\n",
      "2021-10-18 12:58:38,396 __main__ 0/1 INFO :: Iteration: 3950, Time: 4.860352e+01, dt: 1.230469e-02\n",
      "2021-10-18 12:58:38,745 __main__ 0/1 INFO :: Iteration: 4000, Time: 4.921875e+01, dt: 1.230469e-02\n",
      "2021-10-18 12:58:39,069 __main__ 0/1 INFO :: Iteration: 4050, Time: 4.983398e+01, dt: 1.230469e-02\n",
      "2021-10-18 12:58:39,399 __main__ 0/1 INFO :: Iteration: 4100, Time: 5.044922e+01, dt: 1.230469e-02\n",
      "2021-10-18 12:58:39,727 __main__ 0/1 INFO :: Iteration: 4150, Time: 5.106445e+01, dt: 1.230469e-02\n"
     ]
    },
    {
     "name": "stdout",
     "output_type": "stream",
     "text": [
      "2021-10-18 12:58:40,051 __main__ 0/1 INFO :: Iteration: 4200, Time: 5.167969e+01, dt: 1.230469e-02\n",
      "2021-10-18 12:58:40,388 __main__ 0/1 INFO :: Iteration: 4250, Time: 5.229492e+01, dt: 1.230469e-02\n",
      "2021-10-18 12:58:40,710 __main__ 0/1 INFO :: Iteration: 4300, Time: 5.291016e+01, dt: 1.230469e-02\n",
      "2021-10-18 12:58:41,041 __main__ 0/1 INFO :: Iteration: 4350, Time: 5.352539e+01, dt: 1.230469e-02\n",
      "2021-10-18 12:58:41,370 __main__ 0/1 INFO :: Iteration: 4400, Time: 5.414062e+01, dt: 1.230469e-02\n",
      "2021-10-18 12:58:41,696 __main__ 0/1 INFO :: Iteration: 4450, Time: 5.475586e+01, dt: 1.230469e-02\n",
      "2021-10-18 12:58:42,028 __main__ 0/1 INFO :: Iteration: 4500, Time: 5.537109e+01, dt: 1.230469e-02\n",
      "2021-10-18 12:58:42,349 __main__ 0/1 INFO :: Iteration: 4550, Time: 5.598633e+01, dt: 1.230469e-02\n",
      "2021-10-18 12:58:42,683 __main__ 0/1 INFO :: Iteration: 4600, Time: 5.660156e+01, dt: 1.230469e-02\n",
      "2021-10-18 12:58:43,026 __main__ 0/1 INFO :: Iteration: 4650, Time: 5.721680e+01, dt: 1.230469e-02\n",
      "2021-10-18 12:58:43,347 __main__ 0/1 INFO :: Iteration: 4700, Time: 5.783203e+01, dt: 1.230469e-02\n",
      "2021-10-18 12:58:43,680 __main__ 0/1 INFO :: Iteration: 4750, Time: 5.844727e+01, dt: 1.230469e-02\n",
      "2021-10-18 12:58:44,012 __main__ 0/1 INFO :: Iteration: 4800, Time: 5.906250e+01, dt: 1.230469e-02\n",
      "2021-10-18 12:58:44,339 __main__ 0/1 INFO :: Iteration: 4850, Time: 5.967773e+01, dt: 1.230469e-02\n",
      "2021-10-18 12:58:44,671 __main__ 0/1 INFO :: Iteration: 4900, Time: 6.029297e+01, dt: 1.230469e-02\n",
      "2021-10-18 12:58:44,998 __main__ 0/1 INFO :: Iteration: 4950, Time: 6.090820e+01, dt: 1.230469e-02\n",
      "2021-10-18 12:58:45,329 __main__ 0/1 INFO :: Iteration: 5000, Time: 6.152344e+01, dt: 1.230469e-02\n",
      "2021-10-18 12:58:45,686 __main__ 0/1 INFO :: Iteration: 5050, Time: 6.213867e+01, dt: 1.230469e-02\n",
      "2021-10-18 12:58:46,033 __main__ 0/1 INFO :: Iteration: 5100, Time: 6.275391e+01, dt: 1.230469e-02\n",
      "2021-10-18 12:58:46,409 __main__ 0/1 INFO :: Iteration: 5150, Time: 6.336914e+01, dt: 1.230469e-02\n",
      "2021-10-18 12:58:46,737 __main__ 0/1 INFO :: Iteration: 5200, Time: 6.398437e+01, dt: 1.230469e-02\n",
      "2021-10-18 12:58:47,073 __main__ 0/1 INFO :: Iteration: 5250, Time: 6.459961e+01, dt: 1.230469e-02\n",
      "2021-10-18 12:58:47,403 __main__ 0/1 INFO :: Iteration: 5300, Time: 6.521484e+01, dt: 1.230469e-02\n",
      "2021-10-18 12:58:47,731 __main__ 0/1 INFO :: Iteration: 5350, Time: 6.583008e+01, dt: 1.230469e-02\n",
      "2021-10-18 12:58:48,065 __main__ 0/1 INFO :: Iteration: 5400, Time: 6.644531e+01, dt: 1.230469e-02\n",
      "2021-10-18 12:58:48,404 __main__ 0/1 INFO :: Iteration: 5450, Time: 6.706055e+01, dt: 1.230469e-02\n",
      "2021-10-18 12:58:48,733 __main__ 0/1 INFO :: Iteration: 5500, Time: 6.767578e+01, dt: 1.230469e-02\n",
      "2021-10-18 12:58:49,068 __main__ 0/1 INFO :: Iteration: 5550, Time: 6.829102e+01, dt: 1.230469e-02\n",
      "2021-10-18 12:58:49,391 __main__ 0/1 INFO :: Iteration: 5600, Time: 6.890625e+01, dt: 1.230469e-02\n",
      "2021-10-18 12:58:49,722 __main__ 0/1 INFO :: Iteration: 5650, Time: 6.952148e+01, dt: 1.230469e-02\n",
      "2021-10-18 12:58:50,054 __main__ 0/1 INFO :: Iteration: 5700, Time: 7.013672e+01, dt: 1.230469e-02\n",
      "2021-10-18 12:58:50,378 __main__ 0/1 INFO :: Iteration: 5750, Time: 7.075195e+01, dt: 1.230469e-02\n",
      "2021-10-18 12:58:50,709 __main__ 0/1 INFO :: Iteration: 5800, Time: 7.136719e+01, dt: 1.230469e-02\n",
      "2021-10-18 12:58:51,039 __main__ 0/1 INFO :: Iteration: 5850, Time: 7.198242e+01, dt: 1.230469e-02\n",
      "2021-10-18 12:58:51,369 __main__ 0/1 INFO :: Iteration: 5900, Time: 7.259766e+01, dt: 1.230469e-02\n",
      "2021-10-18 12:58:51,701 __main__ 0/1 INFO :: Iteration: 5950, Time: 7.321289e+01, dt: 1.230469e-02\n",
      "2021-10-18 12:58:52,026 __main__ 0/1 INFO :: Iteration: 6000, Time: 7.382812e+01, dt: 1.230469e-02\n",
      "2021-10-18 12:58:52,359 __main__ 0/1 INFO :: Iteration: 6050, Time: 7.444336e+01, dt: 1.230469e-02\n",
      "2021-10-18 12:58:52,694 __main__ 0/1 INFO :: Iteration: 6100, Time: 7.505859e+01, dt: 1.230469e-02\n",
      "2021-10-18 12:58:53,024 __main__ 0/1 INFO :: Iteration: 6150, Time: 7.567383e+01, dt: 1.230469e-02\n",
      "2021-10-18 12:58:53,350 __main__ 0/1 INFO :: Iteration: 6200, Time: 7.628906e+01, dt: 1.230469e-02\n",
      "2021-10-18 12:58:53,680 __main__ 0/1 INFO :: Iteration: 6250, Time: 7.690430e+01, dt: 1.230469e-02\n",
      "2021-10-18 12:58:54,013 __main__ 0/1 INFO :: Iteration: 6300, Time: 7.751953e+01, dt: 1.230469e-02\n",
      "2021-10-18 12:58:54,347 __main__ 0/1 INFO :: Iteration: 6350, Time: 7.813477e+01, dt: 1.230469e-02\n",
      "2021-10-18 12:58:54,673 __main__ 0/1 INFO :: Iteration: 6400, Time: 7.875000e+01, dt: 1.230469e-02\n",
      "2021-10-18 12:58:55,005 __main__ 0/1 INFO :: Iteration: 6450, Time: 7.936523e+01, dt: 1.230469e-02\n",
      "2021-10-18 12:58:55,327 __main__ 0/1 INFO :: Iteration: 6500, Time: 7.998047e+01, dt: 1.230469e-02\n",
      "2021-10-18 12:58:55,344 solvers 0/1 INFO :: Simulation stop time reached.\n"
     ]
    },
    {
     "data": {
      "image/png": "[encoded data removed]",
      "text/plain": [
       "<Figure size 720x360 with 1 Axes>"
      ]
     },
     "metadata": {
      "needs_background": "light"
     },
     "output_type": "display_data"
    }
   ],
   "source": [
    "logger.info('Starting loop')\n",
    "start_time = time.time()\n",
    "while solver.ok:\n",
    "    solver.step(dt)\n",
    "    if solver.iteration % 50 == 0:\n",
    "        logger.info('Iteration: %i, Time: %e, dt: %e' %(solver.iteration, solver.sim_time, dt))\n"
   ]
  },
  {
   "cell_type": "code",
   "execution_count": 12,
   "metadata": {},
   "outputs": [
    {
     "name": "stdout",
     "output_type": "stream",
     "text": [
      "2021-10-18 12:58:55,582 post 0/1 INFO :: Merging files from interact_3\n"
     ]
    },
    {
     "name": "stderr",
     "output_type": "stream",
     "text": [
      "/Users/dominic/miniconda3/envs/dedalus/lib/python3.8/site-packages/dedalus/tools/post.py:230: H5pyDeprecationWarning: other_ds.dims.create_scale(ds, name) is deprecated. Use ds.make_scale(name) instead.\n",
      "  joint_dset.dims.create_scale(scale, scalename)\n"
     ]
    }
   ],
   "source": [
    "from dedalus.tools import post\n",
    "post.merge_process_files(\"interact_3\", cleanup=True)"
   ]
  },
  {
   "cell_type": "code",
   "execution_count": null,
   "metadata": {},
   "outputs": [],
   "source": []
  }
 ],
 "metadata": {
  "kernelspec": {
   "display_name": "dedalus",
   "language": "python",
   "name": "dedalus"
  },
  "language_info": {
   "codemirror_mode": {
    "name": "ipython",
    "version": 3
   },
   "file_extension": ".py",
   "mimetype": "text/x-python",
   "name": "python",
   "nbconvert_exporter": "python",
   "pygments_lexer": "ipython3",
   "version": "3.8.3"
  }
 },
 "nbformat": 4,
 "nbformat_minor": 4
}
