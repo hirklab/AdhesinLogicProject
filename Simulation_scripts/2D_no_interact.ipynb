{
 "cells": [
  {
   "cell_type": "markdown",
   "metadata": {},
   "source": [
    "This script simulates two colonies in 2D that do not interact"
   ]
  },
  {
   "cell_type": "code",
   "execution_count": null,
   "metadata": {},
   "outputs": [],
   "source": [
    "import numpy as np\n",
    "import matplotlib.pyplot as plt\n",
    "import h5py\n",
    "import time\n",
    "from IPython import display\n",
    "\n",
    "from dedalus import public as de\n",
    "from dedalus.extras import flow_tools\n",
    "\n",
    "import logging\n",
    "logger = logging.getLogger(__name__)"
   ]
  },
  {
   "cell_type": "code",
   "execution_count": null,
   "metadata": {},
   "outputs": [],
   "source": [
    "Lx, Ly = (24, 20)\n",
    "nx, ny = (256, 256)\n",
    "\n",
    "# Create bases and domain\n",
    "x_basis = de.Fourier('x', nx, interval=(0, Lx), dealias=3/2)\n",
    "y_basis = de.Fourier('y', ny, interval=(0, Ly), dealias=3/2)\n",
    "domain = de.Domain([x_basis, y_basis], grid_dtype=np.float64)"
   ]
  },
  {
   "cell_type": "code",
   "execution_count": null,
   "metadata": {},
   "outputs": [],
   "source": [
    "def grow_fun(A,B):\n",
    "    F = (A.data)*(1-B.data)\n",
    "    F[A.data < 1e-3] = 0 # This ensures stability far from the colony\n",
    "    return F\n",
    "\n",
    "\n",
    "def grow_operator(field1,field2):\n",
    "    return de.operators.GeneralFunction(\n",
    "        field1.domain,\n",
    "        layout = 'g',\n",
    "        func = grow_fun,\n",
    "        args = (field1,field2,)\n",
    "    )\n",
    "\n",
    "de.operators.parseables['grow'] = grow_operator"
   ]
  },
  {
   "cell_type": "code",
   "execution_count": null,
   "metadata": {},
   "outputs": [],
   "source": [
    "params = np.load('Parameters.npz')\n",
    "Diff = params['Diff'].flat[0]\n",
    "K =  params['K'].flat[0]\n",
    "g = params['g'].flat[0]\n",
    "\n",
    "problem = de.IVP(domain, variables=['rho1','rho2','rho12'])\n",
    "problem.parameters['D0'] = Diff\n",
    "problem.parameters['K'] = 0\n",
    "problem.parameters['g1'] = g\n",
    "problem.parameters['g2'] = g\n",
    "\n",
    "\n",
    "\n",
    "problem.substitutions['rho_b'] = \"rho1+rho2+rho12\" \n",
    "problem.substitutions[\"Lap(A)\"] = \"dx(dx(A)) + dy(dy(A))\"\n",
    "\n",
    "\n",
    "problem.add_equation(\"dt(rho1)  - D0*Lap(rho1) = g1*grow(rho1,rho_b)  - K*rho1*rho2\")\n",
    "problem.add_equation(\"dt(rho2)  - D0*Lap(rho2) = g2*grow(rho2,rho_b)  - K*rho1*rho2\")\n",
    "problem.add_equation(\"dt(rho12)  = 2*K*rho1*rho2\")\n",
    "\n"
   ]
  },
  {
   "cell_type": "code",
   "execution_count": null,
   "metadata": {},
   "outputs": [],
   "source": [
    "ts = de.timesteppers.RK443\n",
    "solver =  problem.build_solver(ts)"
   ]
  },
  {
   "cell_type": "code",
   "execution_count": null,
   "metadata": {},
   "outputs": [],
   "source": [
    "x = domain.grid(0)\n",
    "y = domain.grid(1)\n",
    "rho1 = solver.state['rho1']\n",
    "rho2 = solver.state['rho2']\n",
    "\n",
    "def r(x,y,x0,y0):\n",
    "    return np.sqrt((x-x0)**2+(y-y0)**2)\n",
    "\n",
    "def blob(x,y,x0,y0,r0,w):\n",
    "    return 0.5*(1 - np.tanh((r(x,y,x0,y0)-r0)/w))\n",
    "\n",
    "r0 = 0.75\n",
    "w = 0.22\n",
    "\n",
    "rho1['g'] = blob(x,y,Lx*0.5 - 4.5,0.5*Ly,r0,w) \n",
    "rho2['g'] = blob(x,y,Lx*0.5 + 4.5,0.5*Ly,r0,w)"
   ]
  },
  {
   "cell_type": "code",
   "execution_count": null,
   "metadata": {},
   "outputs": [],
   "source": [
    "solver.stop_sim_time = 200\n",
    "dt = 0.25*Lx/nx"
   ]
  },
  {
   "cell_type": "code",
   "execution_count": null,
   "metadata": {},
   "outputs": [],
   "source": [
    "analysis = solver.evaluator.add_file_handler('2D_no_interface', sim_dt=1, max_writes=500)\n",
    "analysis.add_task('rho1')\n",
    "analysis.add_task('rho2')\n",
    "analysis.add_task('rho12')"
   ]
  },
  {
   "cell_type": "code",
   "execution_count": null,
   "metadata": {},
   "outputs": [],
   "source": [
    "logger.info('Starting loop')\n",
    "start_time = time.time()\n",
    "while solver.ok:\n",
    "    solver.step(dt)\n",
    "    if solver.iteration % 50 == 0:\n",
    "        logger.info('Iteration: %i, Time: %e, dt: %e' %(solver.iteration, solver.sim_time, dt))"
   ]
  },
  {
   "cell_type": "code",
   "execution_count": null,
   "metadata": {},
   "outputs": [],
   "source": [
    "from dedalus.tools import post\n",
    "post.merge_process_files(\"2D_no_interface\", cleanup=True)"
   ]
  }
 ],
 "metadata": {
  "kernelspec": {
   "display_name": "dedalus",
   "language": "python",
   "name": "dedalus"
  },
  "language_info": {
   "codemirror_mode": {
    "name": "ipython",
    "version": 3
   },
   "file_extension": ".py",
   "mimetype": "text/x-python",
   "name": "python",
   "nbconvert_exporter": "python",
   "pygments_lexer": "ipython3",
   "version": "3.8.3"
  }
 },
 "nbformat": 4,
 "nbformat_minor": 4
}
