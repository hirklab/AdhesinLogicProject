{
 "cells": [
  {
   "cell_type": "markdown",
   "metadata": {},
   "source": [
    "This script creates the Escher like pattern that is shown in Figure 1."
   ]
  },
  {
   "cell_type": "code",
   "execution_count": null,
   "metadata": {},
   "outputs": [],
   "source": [
    "import numpy as np\n",
    "import matplotlib.pyplot as plt\n",
    "import h5py\n",
    "import time\n",
    "from IPython import display\n",
    "\n",
    "from dedalus import public as de\n",
    "from dedalus.extras import flow_tools\n",
    "\n",
    "import logging\n",
    "logger = logging.getLogger(__name__)"
   ]
  },
  {
   "cell_type": "code",
   "execution_count": null,
   "metadata": {},
   "outputs": [],
   "source": [
    "# The following resolution is just sufficient to simulate the system. Takes 3h.\n",
    "Lx, Ly = (90,80)\n",
    "nx, ny = (600, 600) \n",
    "\n",
    "\n",
    "# Create bases and domain\n",
    "x_basis = de.Fourier('x', nx, interval=(0, Lx), dealias=3/2)\n",
    "y_basis = de.Fourier('y', ny, interval=(0, Ly), dealias=3/2)\n",
    "domain = de.Domain([x_basis, y_basis], grid_dtype=np.float64)"
   ]
  },
  {
   "cell_type": "code",
   "execution_count": null,
   "metadata": {},
   "outputs": [],
   "source": [
    "def grow_fun(A,B):\n",
    "    F = (A.data)*(1-B.data)\n",
    "    F[A.data < 1e-3] = 0\n",
    "    return F\n",
    "\n",
    "\n",
    "def grow_operator(field1,field2):\n",
    "    return de.operators.GeneralFunction(\n",
    "        field1.domain,\n",
    "        layout = 'g',\n",
    "        func = grow_fun,\n",
    "        args = (field1,field2,)\n",
    "    )\n",
    "\n",
    "de.operators.parseables['grow'] = grow_operator"
   ]
  },
  {
   "cell_type": "code",
   "execution_count": null,
   "metadata": {},
   "outputs": [],
   "source": [
    "params = np.load('Parameters.npz')\n",
    "Diff = params['Diff'].flat[0]\n",
    "K =  params['K'].flat[0]\n",
    "g = params['g'].flat[0]\n",
    "\n",
    "problem = de.IVP(domain, variables=['rho1','rho2','rho3','rho4','rhom'])\n",
    "problem.parameters['D0'] = Diff\n",
    "problem.parameters['K'] = K\n",
    "problem.parameters['g0'] = g\n",
    "\n",
    "\n",
    "problem.substitutions['rho_b'] = \"rho1+rho2+rho3+rho4+rhom\" \n",
    "problem.substitutions[\"Lap(A)\"] = \"dx(dx(A)) + dy(dy(A))\"\n",
    "\n",
    "problem.add_equation(\"dt(rho1)  - D0*Lap(rho1)  = g0*grow(rho1,rho_b) - K*rho1*rho2\")\n",
    "problem.add_equation(\"dt(rho2)  - D0*Lap(rho2)  = g0*grow(rho2,rho_b) - K*rho2*rho1\")\n",
    "problem.add_equation(\"dt(rho3)  - D0*Lap(rho3)  = g0*grow(rho3,rho_b) - K*rho3*rho4\")\n",
    "problem.add_equation(\"dt(rho4)  - D0*Lap(rho4)  = g0*grow(rho4,rho_b) - K*rho4*rho3\")\n",
    "\n",
    "problem.add_equation(\"dt(rhom)  = 2*K*(rho1*rho2 + rho3*rho4 )\")"
   ]
  },
  {
   "cell_type": "code",
   "execution_count": null,
   "metadata": {},
   "outputs": [],
   "source": [
    "ts = de.timesteppers.RK443\n",
    "solver =  problem.build_solver(ts)"
   ]
  },
  {
   "cell_type": "code",
   "execution_count": null,
   "metadata": {},
   "outputs": [],
   "source": [
    "seed_pts = np.load('Initial_seedings/escher_pattern.npz')\n",
    "x_pos = seed_pts['x_pos'] +1\n",
    "y_pos = seed_pts['y_pos'] +1\n",
    "colors = seed_pts['color']"
   ]
  },
  {
   "cell_type": "code",
   "execution_count": null,
   "metadata": {},
   "outputs": [],
   "source": [
    "x = domain.grid(0)\n",
    "y = domain.grid(1)\n",
    "rho1 = solver.state['rho1']\n",
    "rho2 = solver.state['rho2']\n",
    "rho3 = solver.state['rho3']\n",
    "rho4 = solver.state['rho4']\n",
    "\n",
    "def r(x,y,x0,y0):\n",
    "    return np.sqrt((x-x0)**2+(y-y0)**2)\n",
    "\n",
    "def blob_np(x,y,x0,y0,r0,w):\n",
    "    return 0.25*(1 - np.tanh((r(x,y,x0,y0)-r0)/w))\n",
    "\n",
    "def blob(x0,y0):\n",
    "    r0 = 0.75\n",
    "    w = 0.15\n",
    "    return blob_np(x,y,x0,y0,r0,w)\n",
    "\n",
    "for k in range(np.shape(colors)[0]):\n",
    "    for i in range(2):\n",
    "        if 1 == colors[k][i]:\n",
    "            rho1['g'] = rho1['g'] + blob(x_pos[k],y_pos[k])\n",
    "\n",
    "        if 2 == colors[k][i]:\n",
    "            rho2['g'] = rho2['g'] + blob(x_pos[k],y_pos[k])\n",
    "\n",
    "        if 3 == colors[k][i]:\n",
    "            rho3['g'] = rho3['g'] + blob(x_pos[k],y_pos[k]) \n",
    "\n",
    "        if 4 == colors[k][i]:\n",
    "            rho4['g'] = rho4['g'] + blob(x_pos[k],y_pos[k])         "
   ]
  },
  {
   "cell_type": "code",
   "execution_count": null,
   "metadata": {},
   "outputs": [],
   "source": [
    "solver.stop_sim_time = 160\n",
    "dt = 0.3*Lx/nx"
   ]
  },
  {
   "cell_type": "code",
   "execution_count": null,
   "metadata": {},
   "outputs": [],
   "source": [
    "analysis = solver.evaluator.add_file_handler('escher', sim_dt=2, max_writes=900)\n",
    "analysis.add_task('rho1')\n",
    "analysis.add_task('rho2')\n",
    "analysis.add_task('rho3')\n",
    "analysis.add_task('rho4')\n",
    "analysis.add_task('rhom')"
   ]
  },
  {
   "cell_type": "code",
   "execution_count": null,
   "metadata": {},
   "outputs": [],
   "source": [
    "logger.info('Starting loop')\n",
    "start_time = time.time()\n",
    "while solver.ok:\n",
    "    solver.step(dt)\n",
    "    if solver.iteration % 50 == 0:\n",
    "        logger.info('Iteration: %i, Time: %e, dt: %e' %(solver.iteration, solver.sim_time, dt))\n"
   ]
  },
  {
   "cell_type": "code",
   "execution_count": null,
   "metadata": {},
   "outputs": [],
   "source": [
    "from dedalus.tools import post\n",
    "post.merge_process_files(\"escher\", cleanup=True)"
   ]
  },
  {
   "cell_type": "code",
   "execution_count": null,
   "metadata": {},
   "outputs": [],
   "source": []
  }
 ],
 "metadata": {
  "kernelspec": {
   "display_name": "dedalus",
   "language": "python",
   "name": "dedalus"
  },
  "language_info": {
   "codemirror_mode": {
    "name": "ipython",
    "version": 3
   },
   "file_extension": ".py",
   "mimetype": "text/x-python",
   "name": "python",
   "nbconvert_exporter": "python",
   "pygments_lexer": "ipython3",
   "version": "3.8.3"
  }
 },
 "nbformat": 4,
 "nbformat_minor": 4
}
