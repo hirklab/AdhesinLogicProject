{
 "cells": [
  {
   "cell_type": "markdown",
   "metadata": {},
   "source": [
    "This script runs a simulation of two interacting colonies with multiple chemotactic waves. It does this computationally by running 2 PDE simulations. The first only allows one chemotactic wave to expand, the second is held fixed. Then, after running for some set time, the result of that simulation is used as the initial conditions for the second simulation that allows both chemotactic waves to expand."
   ]
  },
  {
   "cell_type": "code",
   "execution_count": null,
   "metadata": {},
   "outputs": [],
   "source": [
    "import numpy as np\n",
    "import matplotlib.pyplot as plt\n",
    "import h5py\n",
    "import time\n",
    "from IPython import display\n",
    "\n",
    "from dedalus import public as de\n",
    "from dedalus.extras import flow_tools\n",
    "\n",
    "import logging\n",
    "logger = logging.getLogger(__name__)"
   ]
  },
  {
   "cell_type": "code",
   "execution_count": null,
   "metadata": {},
   "outputs": [],
   "source": [
    "Lx, Ly = (24, 20)\n",
    "nx, ny = (256, 256)\n",
    "\n",
    "# Create bases and domain\n",
    "x_basis = de.Fourier('x', nx, interval=(0, Lx), dealias=3/2)\n",
    "y_basis = de.Fourier('y', ny, interval=(0, Ly), dealias=3/2)\n",
    "domain = de.Domain([x_basis, y_basis], grid_dtype=np.float64)"
   ]
  },
  {
   "cell_type": "code",
   "execution_count": null,
   "metadata": {},
   "outputs": [],
   "source": [
    "def grow_fun_a(A,B):\n",
    "    F = (A.data)*(1-4*B.data)\n",
    "    F[A.data < 1e-3] = 0\n",
    "    return F\n",
    "\n",
    "\n",
    "def grow_operator_a(field1,field2):\n",
    "    return de.operators.GeneralFunction(\n",
    "        field1.domain,\n",
    "        layout = 'g',\n",
    "        func = grow_fun_a,\n",
    "        args = (field1,field2,)\n",
    "    )\n",
    "\n",
    "de.operators.parseables['grow_a'] = grow_operator_a"
   ]
  },
  {
   "cell_type": "code",
   "execution_count": null,
   "metadata": {},
   "outputs": [],
   "source": [
    "def grow_fun(A,B):\n",
    "    F = (A.data)*(1- (4/3)*B.data)\n",
    "    F[A.data < 1e-3] = 0\n",
    "    return F\n",
    "\n",
    "\n",
    "def grow_operator(field1,field2):\n",
    "    return de.operators.GeneralFunction(\n",
    "        field1.domain,\n",
    "        layout = 'g',\n",
    "        func = grow_fun,\n",
    "        args = (field1,field2,)\n",
    "    )\n",
    "\n",
    "de.operators.parseables['grow'] = grow_operator"
   ]
  },
  {
   "cell_type": "code",
   "execution_count": null,
   "metadata": {},
   "outputs": [],
   "source": [
    "params = np.load('Parameters.npz')\n",
    "Diff = params['Diff'].flat[0]\n",
    "K =  params['K'].flat[0]\n",
    "g = params['g'].flat[0]\n",
    "\n",
    "problem = de.IVP(domain, variables=['rho1','rho2','rho12'])\n",
    "problem.parameters['D'] = Diff\n",
    "problem.parameters['K'] = K\n",
    "problem.parameters['g'] = g\n",
    "\n",
    "problem.substitutions['rho_t'] = \"rho1+rho2+rho12\" \n",
    "problem.substitutions[\"Lap(A)\"] = \"dx(dx(A)) + dy(dy(A))\"\n",
    "\n",
    "problem.add_equation(\"dt(rho1)  - D*Lap(rho1) = g*grow_a(rho1,rho_t)  - K*rho1*rho2\")\n",
    "problem.add_equation(\"dt(rho2)  - D*Lap(rho2) = g*grow_a(rho2,rho_t)  - K*rho1*rho2\")\n",
    "\n",
    "problem.add_equation(\"dt(rho12)  = 2*K*rho1*rho2\")"
   ]
  },
  {
   "cell_type": "code",
   "execution_count": null,
   "metadata": {},
   "outputs": [],
   "source": [
    "ts = de.timesteppers.RK443\n",
    "solver =  problem.build_solver(ts)"
   ]
  },
  {
   "cell_type": "code",
   "execution_count": null,
   "metadata": {},
   "outputs": [],
   "source": [
    "x = domain.grid(0)\n",
    "y = domain.grid(1)\n",
    "rho1 = solver.state['rho1']\n",
    "rho2 = solver.state['rho2']\n",
    "\n",
    "\n",
    "def r(x,y,x0,y0):\n",
    "    return np.sqrt((x-x0)**2+(y-y0)**2)\n",
    "\n",
    "def blob(x,y,x0,y0,r0,w):\n",
    "    return 0.5*(1 - np.tanh((r(x,y,x0,y0)-r0)/w))\n",
    "\n",
    "r0 = 0.75\n",
    "w = 0.22\n",
    "\n",
    "rho1['g'] = 0.25*blob(x,y,Lx*0.5 - 4.5,0.5*Ly,r0,w)  \n",
    "rho2['g'] = 0.25*blob(x,y,Lx*0.5 + 4.5,0.5*Ly,r0,w)"
   ]
  },
  {
   "cell_type": "code",
   "execution_count": null,
   "metadata": {},
   "outputs": [],
   "source": [
    "solver.stop_sim_time = 100\n",
    "dt = 0.25*Lx/nx"
   ]
  },
  {
   "cell_type": "code",
   "execution_count": null,
   "metadata": {},
   "outputs": [],
   "source": [
    "analysis = solver.evaluator.add_file_handler('interface', sim_dt=1, max_writes=500)\n",
    "analysis.add_task('rho1')\n",
    "analysis.add_task('rho2')\n",
    "analysis.add_task('rho12')"
   ]
  },
  {
   "cell_type": "code",
   "execution_count": null,
   "metadata": {},
   "outputs": [],
   "source": [
    "logger.info('Starting loop')\n",
    "start_time = time.time()\n",
    "while solver.ok:\n",
    "    solver.step(dt)\n",
    "    if solver.iteration % 50 == 0:\n",
    "        logger.info('Iteration: %i, Time: %e, dt: %e' %(solver.iteration, solver.sim_time, dt))"
   ]
  },
  {
   "cell_type": "markdown",
   "metadata": {},
   "source": [
    "The first simulation has finished running, now we start the second one"
   ]
  },
  {
   "cell_type": "code",
   "execution_count": null,
   "metadata": {},
   "outputs": [],
   "source": [
    "x_basis = de.Fourier('x', nx, interval=(0, Lx), dealias=3/2)\n",
    "y_basis = de.Fourier('y', ny, interval=(0, Ly), dealias=3/2)\n",
    "domain = de.Domain([x_basis, y_basis], grid_dtype=np.float64)\n",
    "\n",
    "problem_part2 = de.IVP(domain, variables=['rho1a','rho1b','rho2a','rho2b','rho12'])\n",
    "problem_part2.parameters['D'] = Diff\n",
    "problem_part2.parameters['K'] = K\n",
    "problem_part2.parameters['ga'] = g\n",
    "problem_part2.parameters['gb'] = g\n",
    "\n",
    "problem_part2.substitutions['rho1'] = \"rho1a+rho1b\" \n",
    "problem_part2.substitutions['rho2'] = \"rho2a+rho2b\" \n",
    "problem_part2.substitutions['rho_ta'] = \"rho1a+rho2a+rho12\" \n",
    "problem_part2.substitutions['rho_tb'] = \"rho1b+rho2b+rho12\" \n",
    "problem_part2.substitutions['rho_t'] = \"rho1+rho2+rho12\" \n",
    "problem_part2.substitutions[\"Lap(A)\"] = \"dx(dx(A)) + dy(dy(A))\"\n",
    "\n",
    "problem_part2.add_equation(\"dt(rho1a)  - D*Lap(rho1a) = ga*grow_a(rho1a,rho_ta)  - K*rho1a*rho2\")\n",
    "problem_part2.add_equation(\"dt(rho1b)  - D*Lap(rho1b) = gb*grow(rho1b,rho_tb)  - K*rho1b*rho2\")\n",
    "\n",
    "problem_part2.add_equation(\"dt(rho2a)  - D*Lap(rho2a) = ga*grow_a(rho2a,rho_ta)  - K*rho1*rho2a\")\n",
    "problem_part2.add_equation(\"dt(rho2b)  - D*Lap(rho2b) = gb*grow(rho2b,rho_tb)  - K*rho1*rho2b\")\n",
    "\n",
    "problem_part2.add_equation(\"dt(rho12)  = 2*K*rho1*rho2\")"
   ]
  },
  {
   "cell_type": "code",
   "execution_count": null,
   "metadata": {},
   "outputs": [],
   "source": [
    "solver_part2 =  problem_part2.build_solver(ts)"
   ]
  },
  {
   "cell_type": "code",
   "execution_count": null,
   "metadata": {},
   "outputs": [],
   "source": [
    "from dedalus.tools import post\n",
    "post.merge_process_files(\"interface\", cleanup=True)"
   ]
  },
  {
   "cell_type": "code",
   "execution_count": null,
   "metadata": {},
   "outputs": [],
   "source": [
    "f = h5py.File('interface/interface_s1.h5','r')\n",
    "y = f['/scales/y/1.0'][:]\n",
    "x = f['/scales/x/1.0'][:]\n",
    "t = f['scales']['sim_time'][:]\n",
    "rho1 = f['tasks']['rho1'][:]\n",
    "rho2 = f['tasks']['rho2'][:]\n",
    "rhom = f['tasks']['rho12'][:]\n",
    "\n",
    "rho_t = rho1 + rho2 + rhom"
   ]
  },
  {
   "cell_type": "code",
   "execution_count": null,
   "metadata": {},
   "outputs": [],
   "source": [
    "x = domain.grid(0)\n",
    "y = domain.grid(1)\n",
    "rho1a = solver_part2.state['rho1a']\n",
    "rho1b = solver_part2.state['rho1b']\n",
    "rho2a = solver_part2.state['rho2a']\n",
    "rho2b = solver_part2.state['rho2b']\n",
    "\n",
    "r0 = 0.75\n",
    "w = 0.22\n",
    "\n",
    "rho1a['g'] = rho1[-1,:,:] \n",
    "rho1b['g'] = 0.75*blob(x,y,Lx*0.5 - 4.5,0.5*Ly,r0,w)  \n",
    "\n",
    "rho2a['g'] = rho2[-1,:,:] \n",
    "rho2b['g'] = 0.75*blob(x,y,Lx*0.5 + 4.5,0.5*Ly,r0,w)"
   ]
  },
  {
   "cell_type": "code",
   "execution_count": null,
   "metadata": {},
   "outputs": [],
   "source": [
    "solver_part2.stop_sim_time = 300\n",
    "dt = 0.25*Lx/nx"
   ]
  },
  {
   "cell_type": "code",
   "execution_count": null,
   "metadata": {},
   "outputs": [],
   "source": [
    "analysis_part2 = solver_part2.evaluator.add_file_handler('interface_part2', sim_dt=1, max_writes=500)\n",
    "analysis_part2.add_task('rho1a')\n",
    "analysis_part2.add_task('rho1b')\n",
    "analysis_part2.add_task('rho2a')\n",
    "analysis_part2.add_task('rho2b')\n",
    "analysis_part2.add_task('rho12')"
   ]
  },
  {
   "cell_type": "code",
   "execution_count": null,
   "metadata": {},
   "outputs": [],
   "source": [
    "logger.info('Starting loop')\n",
    "start_time = time.time()\n",
    "while solver_part2.ok:\n",
    "    solver_part2.step(dt)\n",
    "    if solver_part2.iteration % 50 == 0:\n",
    "        logger.info('Iteration: %i, Time: %e, dt: %e' %(solver_part2.iteration, solver_part2.sim_time, dt))"
   ]
  },
  {
   "cell_type": "code",
   "execution_count": null,
   "metadata": {},
   "outputs": [],
   "source": [
    "from dedalus.tools import post\n",
    "post.merge_process_files(\"interface_part2\", cleanup=True)"
   ]
  }
 ],
 "metadata": {
  "kernelspec": {
   "display_name": "dedalus",
   "language": "python",
   "name": "dedalus"
  },
  "language_info": {
   "codemirror_mode": {
    "name": "ipython",
    "version": 3
   },
   "file_extension": ".py",
   "mimetype": "text/x-python",
   "name": "python",
   "nbconvert_exporter": "python",
   "pygments_lexer": "ipython3",
   "version": "3.8.3"
  }
 },
 "nbformat": 4,
 "nbformat_minor": 4
}
