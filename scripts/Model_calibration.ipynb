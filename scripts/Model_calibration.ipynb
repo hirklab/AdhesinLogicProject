{
 "cells": [
  {
   "cell_type": "markdown",
   "metadata": {},
   "source": [
    "# Calibration script\n",
    "In this script we calibrate the model parameters, by running for a range of different values and finding those which best agree with the experimental values. \n",
    "\n",
    "After we have found the parameters (which we will use for all other simulations), we also run a sweep of adhesion strength, K, to simulate the effect of the inhibitor"
   ]
  },
  {
   "cell_type": "code",
   "execution_count": null,
   "metadata": {},
   "outputs": [],
   "source": [
    "import numpy as np\n",
    "from scipy.interpolate import interp1d\n",
    "import matplotlib.pyplot as plt\n",
    "import h5py\n",
    "import time\n",
    "from IPython import display\n",
    "\n",
    "from dedalus import public as de\n",
    "from dedalus.extras import flow_tools\n",
    "\n",
    "import logging\n",
    "logger = logging.getLogger(__name__)"
   ]
  },
  {
   "cell_type": "markdown",
   "metadata": {},
   "source": [
    "# Calibration of model parameters\n",
    "Here we calibrate the parameters used in the simulations with physical values."
   ]
  },
  {
   "cell_type": "code",
   "execution_count": null,
   "metadata": {},
   "outputs": [],
   "source": [
    "import interface_probe as ip\n",
    "Diff = np.linspace(2e-3,4e-3,20) # was 20\n",
    "K =  0.0 # first run with no interfaces\n",
    "v = 3.04/60 # mm per minute\n",
    "v_min = 2.64/60 # mm per minute\n",
    "v_max = 3.44/60 # mm per minute\n",
    "\n",
    "w = np.zeros(np.size(Diff))\n",
    "w_min = np.zeros(np.size(Diff))\n",
    "w_max = np.zeros(np.size(Diff))\n",
    "for i in range(np.size(Diff)):\n",
    "    g = v*v/4/Diff[i]\n",
    "    g_min = v_min*v_min/4/Diff[i]\n",
    "    g_max = v_max*v_max/4/Diff[i]\n",
    "    w[i] = ip.interface_width(Diff[i],K,g)\n",
    "    w_min[i] = ip.interface_width(Diff[i],K,g_min)\n",
    "    w_max[i] = ip.interface_width(Diff[i],K,g_max)"
   ]
  },
  {
   "cell_type": "code",
   "execution_count": null,
   "metadata": {},
   "outputs": [],
   "source": [
    "exp_width = 1.29 #mm\n",
    "exp_width_max = 1.31 #mm\n",
    "exp_width_min = 1.27 #mm\n",
    "\n",
    "f = interp1d(w, Diff)\n",
    "f_min = interp1d(w_min, Diff)\n",
    "f_max = interp1d(w_max, Diff)\n",
    "\n",
    "Diff_max = f_min(exp_width_max).flat[0]\n",
    "Diff_min = f_max(exp_width_min).flat[0]\n",
    "Diff_fix = f(exp_width).flat[0]\n",
    "print(Diff_max/60 * 1e6)\n",
    "print(Diff_min/60 * 1e6)\n",
    "print(Diff_fix/60 * 1e6)"
   ]
  },
  {
   "cell_type": "code",
   "execution_count": null,
   "metadata": {},
   "outputs": [],
   "source": [
    "g = v*v/4/Diff_fix\n",
    "g_max = v_max*v_max/4/Diff_min\n",
    "g_min = v_min*v_min/4/Diff_max\n",
    "print(g*60)\n",
    "print(g_min*60)\n",
    "print(g_max*60)"
   ]
  },
  {
   "cell_type": "code",
   "execution_count": null,
   "metadata": {},
   "outputs": [],
   "source": [
    "K_scan =  np.linspace(0,3.4,25) \n",
    "w_int = np.zeros(np.size(K_scan))\n",
    "w_int_min = np.zeros(np.size(K_scan))\n",
    "w_int_max = np.zeros(np.size(K_scan))\n",
    "\n",
    "for i in range(np.size(K_scan)):\n",
    "    w_int[i] = ip.interface_width(Diff_fix,K_scan[i],g)\n",
    "    w_int_min[i] = ip.interface_width(Diff_max,K_scan[i],g_min)\n",
    "    w_int_max[i] = ip.interface_width(Diff_min,K_scan[i],g_max)"
   ]
  },
  {
   "cell_type": "code",
   "execution_count": null,
   "metadata": {},
   "outputs": [],
   "source": [
    "fig, axis = plt.subplots(1,3,figsize=(18,5))\n",
    "axis[0].plot(Diff/60 * 1e6,w,marker='o')\n",
    "axis[0].plot(Diff/60 * 1e6,w_min,marker='o')\n",
    "axis[0].plot(Diff/60 * 1e6,w_max,marker='o')\n",
    "axis[0].plot(Diff/60 * 1e6,1.29*np.ones(np.shape(Diff)))\n",
    "axis[0].set_xlabel(\"Diffusion coefficient (um^2/s)\")\n",
    "axis[0].set_ylabel(\"Interface width (mm)\")\n",
    "\n",
    "axis[1].plot(v*v/4/Diff *60,w,marker='o')\n",
    "axis[1].plot(v_min*v_min/4/Diff *60,w_min,marker='o')\n",
    "axis[1].plot(v_max*v_max/4/Diff *60,w_max,marker='o')\n",
    "axis[1].plot([5,25],[1.3,1.3])\n",
    "axis[1].set_xlabel(\"Growth rate (1/s)\")\n",
    "axis[1].set_ylabel(\"Interface width (mm)\")\n",
    "\n",
    "axis[2].plot(K_scan*60,w_int,marker='o')\n",
    "axis[2].plot(K_scan*60,w_int_min,marker='o')\n",
    "axis[2].plot(K_scan*60,w_int_max,marker='o')\n",
    "#axis[2].plot(K_scan*60,np.sqrt(Diff_fix) *11/np.sqrt(g + 0.5*K_scan))\n",
    "axis[2].plot(K_scan*60,0.5*np.ones(np.shape(K_scan)))\n",
    "axis[2].set_xlabel(\"Inhibitor value (1/h)\")\n",
    "axis[2].set_ylabel(\"Interface width (mm)\")\n",
    "fig.savefig('Calibrate_sim.pdf',dpi=150)"
   ]
  },
  {
   "cell_type": "code",
   "execution_count": null,
   "metadata": {},
   "outputs": [],
   "source": [
    "exp_int_width = 0.5 #mm\n",
    "exp_int_width_max = 0.51 #mm\n",
    "exp_int_width_min = 0.49 #mm\n",
    "\n",
    "f_int = interp1d(w_int, K_scan)\n",
    "f_int_min = interp1d(w_int_min, K_scan)\n",
    "f_int_max = interp1d(w_int_max, K_scan)\n",
    "\n",
    "K_max = f_int_max(exp_int_width_max).flat[0]\n",
    "K_min = f_int_min(exp_int_width_max).flat[0]\n",
    "K_fix = f_int(exp_int_width).flat[0]\n",
    "print(K_min*60)\n",
    "print(K_max*60)\n",
    "print(K_fix*60)"
   ]
  },
  {
   "cell_type": "code",
   "execution_count": null,
   "metadata": {},
   "outputs": [],
   "source": [
    "np.savez('Parameters.npz',K=K_fix,g=g,Diff = Diff_fix)"
   ]
  },
  {
   "cell_type": "markdown",
   "metadata": {},
   "source": [
    "# Inhibitor calibrate"
   ]
  },
  {
   "cell_type": "code",
   "execution_count": null,
   "metadata": {},
   "outputs": [],
   "source": [
    "import interface_probe as ip\n",
    "params = np.load('Parameters.npz')\n",
    "Diff = params['Diff'].flat[0]\n",
    "I = np.exp(np.linspace(-8,5.8,30))# -8,5.3\n",
    "Km =  params['K'].flat[0]\n",
    "g = params['g'].flat[0]\n",
    "w = np.zeros(np.size(I))\n",
    "for i in range(np.size(I)):\n",
    "    K = Km/(1+I[i])\n",
    "    w[i] = ip.interface_width(Diff,K,g)"
   ]
  },
  {
   "cell_type": "code",
   "execution_count": null,
   "metadata": {},
   "outputs": [],
   "source": [
    "np.savez('Inhibitor.npz',inh_conc=I*5e-6,int_width=w)"
   ]
  }
 ],
 "metadata": {
  "kernelspec": {
   "display_name": "dedalus",
   "language": "python",
   "name": "dedalus"
  },
  "language_info": {
   "codemirror_mode": {
    "name": "ipython",
    "version": 3
   },
   "file_extension": ".py",
   "mimetype": "text/x-python",
   "name": "python",
   "nbconvert_exporter": "python",
   "pygments_lexer": "ipython3",
   "version": "3.8.3"
  }
 },
 "nbformat": 4,
 "nbformat_minor": 4
}
