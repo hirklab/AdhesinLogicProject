{
 "cells": [
  {
   "cell_type": "code",
   "execution_count": 1,
   "metadata": {},
   "outputs": [],
   "source": [
    "import numpy as np\n",
    "import matplotlib.pyplot as plt\n",
    "import h5py\n",
    "import time\n",
    "from IPython import display\n",
    "\n",
    "from dedalus import public as de\n",
    "from dedalus.extras import flow_tools\n",
    "\n",
    "import logging\n",
    "logger = logging.getLogger(__name__)"
   ]
  },
  {
   "cell_type": "code",
   "execution_count": 2,
   "metadata": {},
   "outputs": [],
   "source": [
    "#Aspect ratio 2\n",
    "scale_fact = 7\n",
    "Lx, Ly = (4.*scale_fact, 2.*np.sqrt(3)*scale_fact)\n",
    "nx, ny = (350, 300)\n",
    "\n",
    "# Create bases and domain\n",
    "x_basis = de.Fourier('x', nx, interval=(0, Lx), dealias=3/2)\n",
    "y_basis = de.Fourier('y', ny, interval=(0, Ly), dealias=3/2)\n",
    "domain = de.Domain([x_basis, y_basis], grid_dtype=np.float64)"
   ]
  },
  {
   "cell_type": "code",
   "execution_count": 3,
   "metadata": {},
   "outputs": [],
   "source": [
    "def grow_fun(A,B):\n",
    "    F = (A.data)*(1-B.data)\n",
    "    F[A.data < -1e-3] = 0\n",
    "    return F\n",
    "\n",
    "\n",
    "def grow_operator(field1,field2):\n",
    "    return de.operators.GeneralFunction(\n",
    "        field1.domain,\n",
    "        layout = 'g',\n",
    "        func = grow_fun,\n",
    "        args = (field1,field2,)\n",
    "    )\n",
    "\n",
    "de.operators.parseables['grow'] = grow_operator"
   ]
  },
  {
   "cell_type": "code",
   "execution_count": 4,
   "metadata": {},
   "outputs": [],
   "source": [
    "params = np.load('Parameters.npz')\n",
    "Diff = params['Diff'].flat[0]\n",
    "K =  params['K'].flat[0]\n",
    "g = params['g'].flat[0]\n",
    "\n",
    "problem = de.IVP(domain, variables=['rho1','rho2','rho3','rho4','rhom'])\n",
    "problem.parameters['D0'] = Diff\n",
    "problem.parameters['K'] = K\n",
    "problem.parameters['g0'] = g\n",
    "\n",
    "\n",
    "problem.substitutions['rho_b'] = \"rho1+rho2+rho3+rho4 + rhom\" \n",
    "problem.substitutions[\"Lap(A)\"] = \"dx(dx(A)) + dy(dy(A))\"\n",
    "\n",
    "problem.substitutions[\"grow_nl(A,B)\"] = \"-A*B\"\n",
    "problem.substitutions[\"grow_l(A)\"] = \"-A\"    \n",
    "\n",
    "problem.add_equation(\"dt(rho1)  - D0*Lap(rho1)  = g0*grow(rho1,rho_b) - K*rho1*rho2\")\n",
    "problem.add_equation(\"dt(rho2)  - D0*Lap(rho2)  = g0*grow(rho2,rho_b) - K*rho2*rho1\")\n",
    "problem.add_equation(\"dt(rho3)  - D0*Lap(rho3)  = g0*grow(rho3,rho_b) - K*rho3*rho4\")\n",
    "problem.add_equation(\"dt(rho4)  - D0*Lap(rho4)  = g0*grow(rho4,rho_b) - K*rho4*rho3\")\n",
    "\n",
    "problem.add_equation(\"dt(rhom)  = 2*K*(rho1*rho2 + rho3*rho4 )\")"
   ]
  },
  {
   "cell_type": "code",
   "execution_count": 5,
   "metadata": {},
   "outputs": [],
   "source": [
    "ts = de.timesteppers.RK443\n",
    "solver =  problem.build_solver(ts)"
   ]
  },
  {
   "cell_type": "code",
   "execution_count": 7,
   "metadata": {},
   "outputs": [],
   "source": [
    "x = domain.grid(0)\n",
    "y = domain.grid(1)\n",
    "rho1 = solver.state['rho1']\n",
    "rho2 = solver.state['rho2']\n",
    "rho3 = solver.state['rho3']\n",
    "rho4 = solver.state['rho4']\n",
    "\n",
    "def r(x,y,x0,y0):\n",
    "    return np.sqrt((x-x0)**2+(y-y0)**2)\n",
    "\n",
    "def blob_np(x,y,x0,y0,r0,w):\n",
    "    return 0.5*(1 - np.tanh((r(x,y,x0,y0)-r0)/w))\n",
    "\n",
    "def blob(x,y,x0,y0,r0,w):\n",
    "    return blob_np(x,y,x0*scale_fact,y0*scale_fact,r0,w) + blob_np(x,y,x0*scale_fact+Lx,y0*scale_fact,r0,w) + blob_np(x,y,x0*scale_fact,y0*scale_fact+Ly,r0,w) + blob_np(x,y,x0*scale_fact+Lx,y0*scale_fact+Ly,r0,w)\n",
    "\n",
    "\n",
    "# Triangular lattice points at: \n",
    "# (0.5,sqrt(3)/6) + (n,m*sqrt(3))\n",
    "# (0.5,5*sqrt(3)/6) + (n,m*sqrt(3))\n",
    "# (1.,sqrt(3)/6 -sqrt(3)/2) + (n,m*sqrt(3))\n",
    "# (1.,5*sqrt(3)/6-sqrt(3)/2) + (n,m*sqrt(3))\n",
    "\n",
    "r0 = 0.75\n",
    "w = 0.22\n",
    "rho1['g'] = blob(x,y,0.5,np.sqrt(3)/6,r0,w) + blob(x,y,1.5,np.sqrt(3)/6,r0,w) + blob(x,y,2.5,np.sqrt(3)/6,r0,w) +\\\n",
    "            blob(x,y,3.5,np.sqrt(3)/6,r0,w) + blob(x,y,0.0,np.sqrt(3)/3,r0,w) + 0.5*blob(x,y,2.0,np.sqrt(3)/3,r0,w) +\\\n",
    "            blob(x,y,0.5,7*np.sqrt(3)/6,r0,w)  + blob(x,y,1.5,7*np.sqrt(3)/6,r0,w) + blob(x,y,0.0,4*np.sqrt(3)/3,r0,w) +\\\n",
    "            blob(x,y,2.0,4*np.sqrt(3)/3,r0,w)\n",
    "\n",
    "rho2['g'] = blob(x,y,1.0,np.sqrt(3)/3,r0,w) + blob(x,y,3.0,np.sqrt(3)/3,r0,w) + 0.5*blob(x,y,0.5,5*np.sqrt(3)/6,r0,w) +\\\n",
    "            0.5*blob(x,y,1.5,5*np.sqrt(3)/6,r0,w) + blob(x,y,2.5,7*np.sqrt(3)/6,r0,w)  + blob(x,y,3.5,7*np.sqrt(3)/6,r0,w) +\\\n",
    "            blob(x,y,1.0,4*np.sqrt(3)/3,r0,w) + blob(x,y,3.0,4*np.sqrt(3)/3,r0,w)\n",
    "\n",
    "\n",
    "rho3['g'] = 0.5*blob(x,y,2.0,np.sqrt(3)/3,r0,w) + blob(x,y,0.0,2*np.sqrt(3)/3,r0,w) + blob(x,y,3.0,2*np.sqrt(3)/3,r0,w) +\\\n",
    "            0.5*blob(x,y,0.5,5*np.sqrt(3)/6,r0,w)\n",
    "\n",
    "\n",
    "rho4['g'] = blob(x,y,1.0,2*np.sqrt(3)/3,r0,w) + blob(x,y,2.0,2*np.sqrt(3)/3,r0,w)  + 0.5*blob(x,y,1.5,5*np.sqrt(3)/6,r0,w) +\\\n",
    "            blob(x,y,2.5,5*np.sqrt(3)/6,r0,w) + blob(x,y,3.5,5*np.sqrt(3)/6,r0,w) +\\\n",
    "            blob(x,y,0.0,5*np.sqrt(3)/3,r0,w)   + blob(x,y,1.0,5*np.sqrt(3)/3,r0,w) +\\\n",
    "            blob(x,y,2.0,5*np.sqrt(3)/3,r0,w)   + blob(x,y,3.0,5*np.sqrt(3)/3,r0,w)  +\\\n",
    "            blob(x,y,0.5,11*np.sqrt(3)/6,r0,w) + blob(x,y,1.5,11*np.sqrt(3)/6,r0,w) + \\\n",
    "            blob(x,y,2.5,11*np.sqrt(3)/6,r0,w) + blob(x,y,3.5,11*np.sqrt(3)/6,r0,w)\n",
    "              "
   ]
  },
  {
   "cell_type": "code",
   "execution_count": 8,
   "metadata": {},
   "outputs": [],
   "source": [
    "solver.stop_sim_time = 90\n",
    "dt = 0.4*Lx/nx"
   ]
  },
  {
   "cell_type": "code",
   "execution_count": 9,
   "metadata": {},
   "outputs": [],
   "source": [
    "analysis = solver.evaluator.add_file_handler('sel_lat', sim_dt=1.5, max_writes=500)\n",
    "analysis.add_task('rho1')\n",
    "analysis.add_task('rho2')\n",
    "analysis.add_task('rho3')\n",
    "analysis.add_task('rho4')\n",
    "analysis.add_task('rhom')"
   ]
  },
  {
   "cell_type": "code",
   "execution_count": 11,
   "metadata": {},
   "outputs": [
    {
     "name": "stdout",
     "output_type": "stream",
     "text": [
      "2021-02-17 10:46:39,530 __main__ 0/1 INFO :: Starting loop\n"
     ]
    },
    {
     "name": "stderr",
     "output_type": "stream",
     "text": [
      "/Users/dominic/miniconda3/envs/dedalus/lib/python3.8/site-packages/dedalus/core/evaluator.py:533: H5pyDeprecationWarning: other_ds.dims.create_scale(ds, name) is deprecated. Use ds.make_scale(name) instead.\n",
      "  dset.dims.create_scale(scale, sn)\n",
      "/Users/dominic/miniconda3/envs/dedalus/lib/python3.8/site-packages/dedalus/core/evaluator.py:550: H5pyDeprecationWarning: other_ds.dims.create_scale(ds, name) is deprecated. Use ds.make_scale(name) instead.\n",
      "  dset.dims.create_scale(scale, lookup)\n"
     ]
    },
    {
     "name": "stdout",
     "output_type": "stream",
     "text": [
      "2021-02-17 10:47:00,022 __main__ 0/1 INFO :: Iteration: 50, Time: 1.600000e+00, dt: 3.200000e-02\n",
      "2021-02-17 10:47:17,765 __main__ 0/1 INFO :: Iteration: 100, Time: 3.200000e+00, dt: 3.200000e-02\n",
      "2021-02-17 10:47:38,823 __main__ 0/1 INFO :: Iteration: 150, Time: 4.800000e+00, dt: 3.200000e-02\n",
      "2021-02-17 10:47:58,893 __main__ 0/1 INFO :: Iteration: 200, Time: 6.400000e+00, dt: 3.200000e-02\n",
      "2021-02-17 10:48:17,768 __main__ 0/1 INFO :: Iteration: 250, Time: 8.000000e+00, dt: 3.200000e-02\n",
      "2021-02-17 10:48:35,973 __main__ 0/1 INFO :: Iteration: 300, Time: 9.600000e+00, dt: 3.200000e-02\n",
      "2021-02-17 10:48:54,843 __main__ 0/1 INFO :: Iteration: 350, Time: 1.120000e+01, dt: 3.200000e-02\n",
      "2021-02-17 10:49:13,125 __main__ 0/1 INFO :: Iteration: 400, Time: 1.280000e+01, dt: 3.200000e-02\n",
      "2021-02-17 10:49:32,104 __main__ 0/1 INFO :: Iteration: 450, Time: 1.440000e+01, dt: 3.200000e-02\n",
      "2021-02-17 10:49:50,363 __main__ 0/1 INFO :: Iteration: 500, Time: 1.600000e+01, dt: 3.200000e-02\n",
      "2021-02-17 10:50:09,266 __main__ 0/1 INFO :: Iteration: 550, Time: 1.760000e+01, dt: 3.200000e-02\n",
      "2021-02-17 10:50:26,465 __main__ 0/1 INFO :: Iteration: 600, Time: 1.920000e+01, dt: 3.200000e-02\n",
      "2021-02-17 10:50:44,162 __main__ 0/1 INFO :: Iteration: 650, Time: 2.080000e+01, dt: 3.200000e-02\n",
      "2021-02-17 10:51:01,348 __main__ 0/1 INFO :: Iteration: 700, Time: 2.240000e+01, dt: 3.200000e-02\n",
      "2021-02-17 10:51:18,949 __main__ 0/1 INFO :: Iteration: 750, Time: 2.400000e+01, dt: 3.200000e-02\n",
      "2021-02-17 10:51:36,367 __main__ 0/1 INFO :: Iteration: 800, Time: 2.560000e+01, dt: 3.200000e-02\n",
      "2021-02-17 10:51:53,727 __main__ 0/1 INFO :: Iteration: 850, Time: 2.720000e+01, dt: 3.200000e-02\n",
      "2021-02-17 10:52:11,284 __main__ 0/1 INFO :: Iteration: 900, Time: 2.880000e+01, dt: 3.200000e-02\n",
      "2021-02-17 10:52:28,543 __main__ 0/1 INFO :: Iteration: 950, Time: 3.040000e+01, dt: 3.200000e-02\n",
      "2021-02-17 10:52:46,209 __main__ 0/1 INFO :: Iteration: 1000, Time: 3.200000e+01, dt: 3.200000e-02\n",
      "2021-02-17 10:53:03,361 __main__ 0/1 INFO :: Iteration: 1050, Time: 3.360000e+01, dt: 3.200000e-02\n",
      "2021-02-17 10:53:21,101 __main__ 0/1 INFO :: Iteration: 1100, Time: 3.520000e+01, dt: 3.200000e-02\n",
      "2021-02-17 10:53:38,136 __main__ 0/1 INFO :: Iteration: 1150, Time: 3.680000e+01, dt: 3.200000e-02\n",
      "2021-02-17 10:53:55,783 __main__ 0/1 INFO :: Iteration: 1200, Time: 3.840000e+01, dt: 3.200000e-02\n",
      "2021-02-17 10:54:12,923 __main__ 0/1 INFO :: Iteration: 1250, Time: 4.000000e+01, dt: 3.200000e-02\n",
      "2021-02-17 10:54:30,633 __main__ 0/1 INFO :: Iteration: 1300, Time: 4.160000e+01, dt: 3.200000e-02\n",
      "2021-02-17 10:54:47,622 __main__ 0/1 INFO :: Iteration: 1350, Time: 4.320000e+01, dt: 3.200000e-02\n",
      "2021-02-17 10:55:05,279 __main__ 0/1 INFO :: Iteration: 1400, Time: 4.480000e+01, dt: 3.200000e-02\n",
      "2021-02-17 10:55:22,346 __main__ 0/1 INFO :: Iteration: 1450, Time: 4.640000e+01, dt: 3.200000e-02\n",
      "2021-02-17 10:55:39,970 __main__ 0/1 INFO :: Iteration: 1500, Time: 4.800000e+01, dt: 3.200000e-02\n",
      "2021-02-17 10:55:57,000 __main__ 0/1 INFO :: Iteration: 1550, Time: 4.960000e+01, dt: 3.200000e-02\n",
      "2021-02-17 10:56:14,614 __main__ 0/1 INFO :: Iteration: 1600, Time: 5.120000e+01, dt: 3.200000e-02\n",
      "2021-02-17 10:56:31,805 __main__ 0/1 INFO :: Iteration: 1650, Time: 5.280000e+01, dt: 3.200000e-02\n",
      "2021-02-17 10:56:49,492 __main__ 0/1 INFO :: Iteration: 1700, Time: 5.440000e+01, dt: 3.200000e-02\n",
      "2021-02-17 10:57:06,854 __main__ 0/1 INFO :: Iteration: 1750, Time: 5.600000e+01, dt: 3.200000e-02\n",
      "2021-02-17 10:57:24,782 __main__ 0/1 INFO :: Iteration: 1800, Time: 5.760000e+01, dt: 3.200000e-02\n",
      "2021-02-17 10:57:41,840 __main__ 0/1 INFO :: Iteration: 1850, Time: 5.920000e+01, dt: 3.200000e-02\n",
      "2021-02-17 10:57:59,758 __main__ 0/1 INFO :: Iteration: 1900, Time: 6.080000e+01, dt: 3.200000e-02\n",
      "2021-02-17 10:58:16,922 __main__ 0/1 INFO :: Iteration: 1950, Time: 6.240000e+01, dt: 3.200000e-02\n",
      "2021-02-17 10:58:36,315 __main__ 0/1 INFO :: Iteration: 2000, Time: 6.400000e+01, dt: 3.200000e-02\n",
      "2021-02-17 10:58:54,353 __main__ 0/1 INFO :: Iteration: 2050, Time: 6.560000e+01, dt: 3.200000e-02\n",
      "2021-02-17 10:59:12,981 __main__ 0/1 INFO :: Iteration: 2100, Time: 6.720000e+01, dt: 3.200000e-02\n",
      "2021-02-17 10:59:31,671 __main__ 0/1 INFO :: Iteration: 2150, Time: 6.880000e+01, dt: 3.200000e-02\n",
      "2021-02-17 10:59:50,038 __main__ 0/1 INFO :: Iteration: 2200, Time: 7.040000e+01, dt: 3.200000e-02\n",
      "2021-02-17 11:00:07,957 __main__ 0/1 INFO :: Iteration: 2250, Time: 7.200000e+01, dt: 3.200000e-02\n",
      "2021-02-17 11:00:25,351 __main__ 0/1 INFO :: Iteration: 2300, Time: 7.360000e+01, dt: 3.200000e-02\n",
      "2021-02-17 11:00:43,250 __main__ 0/1 INFO :: Iteration: 2350, Time: 7.520000e+01, dt: 3.200000e-02\n",
      "2021-02-17 11:01:00,312 __main__ 0/1 INFO :: Iteration: 2400, Time: 7.680000e+01, dt: 3.200000e-02\n",
      "2021-02-17 11:01:17,951 __main__ 0/1 INFO :: Iteration: 2450, Time: 7.840000e+01, dt: 3.200000e-02\n",
      "2021-02-17 11:01:34,889 __main__ 0/1 INFO :: Iteration: 2500, Time: 8.000000e+01, dt: 3.200000e-02\n",
      "2021-02-17 11:01:51,342 __main__ 0/1 INFO :: Iteration: 2550, Time: 8.160000e+01, dt: 3.200000e-02\n",
      "2021-02-17 11:02:06,448 __main__ 0/1 INFO :: Iteration: 2600, Time: 8.320000e+01, dt: 3.200000e-02\n",
      "2021-02-17 11:02:21,448 __main__ 0/1 INFO :: Iteration: 2650, Time: 8.480000e+01, dt: 3.200000e-02\n",
      "2021-02-17 11:02:41,157 __main__ 0/1 INFO :: Iteration: 2700, Time: 8.640000e+01, dt: 3.200000e-02\n",
      "2021-02-17 11:03:01,369 __main__ 0/1 INFO :: Iteration: 2750, Time: 8.800000e+01, dt: 3.200000e-02\n",
      "2021-02-17 11:03:20,237 __main__ 0/1 INFO :: Iteration: 2800, Time: 8.960000e+01, dt: 3.200000e-02\n",
      "2021-02-17 11:03:25,139 solvers 0/1 INFO :: Simulation stop time reached.\n"
     ]
    },
    {
     "data": {
      "image/png": "[encoded data removed]",
      "text/plain": [
       "<Figure size 720x360 with 1 Axes>"
      ]
     },
     "metadata": {
      "needs_background": "light"
     },
     "output_type": "display_data"
    }
   ],
   "source": [
    "logger.info('Starting loop')\n",
    "start_time = time.time()\n",
    "while solver.ok:\n",
    "    solver.step(dt)\n",
    "    if solver.iteration % 50 == 0:\n",
    "        logger.info('Iteration: %i, Time: %e, dt: %e' %(solver.iteration, solver.sim_time, dt))"
   ]
  },
  {
   "cell_type": "code",
   "execution_count": 13,
   "metadata": {},
   "outputs": [
    {
     "name": "stdout",
     "output_type": "stream",
     "text": [
      "2021-02-17 11:03:25,633 post 0/1 INFO :: Merging files from sel_lat\n"
     ]
    },
    {
     "name": "stderr",
     "output_type": "stream",
     "text": [
      "/Users/dominic/miniconda3/envs/dedalus/lib/python3.8/site-packages/dedalus/tools/post.py:230: H5pyDeprecationWarning: other_ds.dims.create_scale(ds, name) is deprecated. Use ds.make_scale(name) instead.\n",
      "  joint_dset.dims.create_scale(scale, scalename)\n"
     ]
    }
   ],
   "source": [
    "from dedalus.tools import post\n",
    "post.merge_process_files(\"sel_lat\", cleanup=True)"
   ]
  },
  {
   "cell_type": "code",
   "execution_count": null,
   "metadata": {},
   "outputs": [],
   "source": []
  }
 ],
 "metadata": {
  "kernelspec": {
   "display_name": "dedalus",
   "language": "python",
   "name": "dedalus"
  },
  "language_info": {
   "codemirror_mode": {
    "name": "ipython",
    "version": 3
   },
   "file_extension": ".py",
   "mimetype": "text/x-python",
   "name": "python",
   "nbconvert_exporter": "python",
   "pygments_lexer": "ipython3",
   "version": "3.8.3"
  }
 },
 "nbformat": 4,
 "nbformat_minor": 4
}
