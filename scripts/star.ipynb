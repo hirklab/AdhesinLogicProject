{
 "cells": [
  {
   "cell_type": "code",
   "execution_count": null,
   "metadata": {},
   "outputs": [],
   "source": [
    "import numpy as np\n",
    "import matplotlib.pyplot as plt\n",
    "import h5py\n",
    "import time\n",
    "from IPython import display\n",
    "\n",
    "from dedalus import public as de\n",
    "from dedalus.extras import flow_tools\n",
    "\n",
    "import logging\n",
    "logger = logging.getLogger(__name__)"
   ]
  },
  {
   "cell_type": "code",
   "execution_count": null,
   "metadata": {},
   "outputs": [],
   "source": [
    "#Aspect ratio 2\n",
    "Lx, Ly = (26., 26.)\n",
    "nx, ny = (300, 300)\n",
    "\n",
    "# Create bases and domain\n",
    "x_basis = de.Fourier('x', nx, interval=(0, Lx), dealias=3/2)\n",
    "y_basis = de.Fourier('y', ny, interval=(0, Ly), dealias=3/2)\n",
    "domain = de.Domain([x_basis, y_basis], grid_dtype=np.float64)"
   ]
  },
  {
   "cell_type": "code",
   "execution_count": null,
   "metadata": {},
   "outputs": [],
   "source": [
    "\n",
    "def grow_fun(A,B):\n",
    "    F = (A.data)*(1-B.data)\n",
    "    F[A.data < 1e-3] = 0\n",
    "    return F\n",
    "\n",
    "\n",
    "def grow_operator(field1,field2):\n",
    "    return de.operators.GeneralFunction(\n",
    "        field1.domain,\n",
    "        layout = 'g',\n",
    "        func = grow_fun,\n",
    "        args = (field1,field2,)\n",
    "    )\n",
    "\n",
    "de.operators.parseables['grow'] = grow_operator"
   ]
  },
  {
   "cell_type": "code",
   "execution_count": null,
   "metadata": {},
   "outputs": [],
   "source": [
    "params = np.load('Parameters.npz')\n",
    "Diff = params['Diff'].flat[0]\n",
    "K =  params['K'].flat[0]\n",
    "g = params['g'].flat[0]\n",
    "\n",
    "problem = de.IVP(domain, variables=['rho1','rho2','rhom'])\n",
    "problem.parameters['D1'] = Diff\n",
    "problem.parameters['D2'] = 0.25*Diff\n",
    "problem.parameters['K'] = K\n",
    "problem.parameters['g0'] = g\n",
    "problem.parameters['g1'] = g\n",
    "\n",
    "\n",
    "problem.substitutions['rho_b'] = \"rho1+rho2+rhom\" \n",
    "problem.substitutions[\"Lap(A)\"] = \"dx(dx(A)) + dy(dy(A))\"\n",
    "\n",
    "problem.substitutions[\"grow_nl(A,B)\"] = \"-A*B\"\n",
    "problem.substitutions[\"grow_l(A)\"] = \"-A\"    \n",
    "\n",
    "problem.add_equation(\"dt(rho1)  - D1*Lap(rho1)  = g0*grow(rho1,rho_b) - K*rho1*(rho2)\")\n",
    "problem.add_equation(\"dt(rho2)  - D2*Lap(rho2)  = g1*grow(rho2,rho_b) - K*rho2*(rho1)\")\n",
    "\n",
    "problem.add_equation(\"dt(rhom)  = 2*K*(rho1*rho2)\")"
   ]
  },
  {
   "cell_type": "code",
   "execution_count": null,
   "metadata": {},
   "outputs": [],
   "source": [
    "ts = de.timesteppers.RK443\n",
    "solver =  problem.build_solver(ts)"
   ]
  },
  {
   "cell_type": "code",
   "execution_count": null,
   "metadata": {},
   "outputs": [],
   "source": [
    "x = domain.grid(0)\n",
    "y = domain.grid(1)\n",
    "rho1 = solver.state['rho1']\n",
    "rho2 = solver.state['rho2']\n",
    "\n",
    "def r(x,y,x0,y0):\n",
    "    return np.sqrt((x-x0)**2+(y-y0)**2)\n",
    "\n",
    "def blob_np(x,y,x0,y0,r0,w):\n",
    "    return 0.5*(1 - np.tanh((r(x,y,x0,y0)-r0)/w))\n",
    "\n",
    "def blob(x,y,x0,y0,r0,w):\n",
    "    return blob_np(x,y,x0,y0,r0,w) + blob_np(x,y,x0+Lx,y0,r0,w) + blob_np(x,y,x0,y0+Ly,r0,w) + blob_np(x,y,x0+Lx,y0+Ly,r0,w)\n",
    "\n",
    "\n",
    "# Triangular lattice points at: \n",
    "# (0.5,sqrt(3)/6) + (n,m*sqrt(3))\n",
    "# (0.5,5*sqrt(3)/6) + (n,m*sqrt(3))\n",
    "# (1.,sqrt(3)/6 -sqrt(3)/2) + (n,m*sqrt(3))\n",
    "# (1.,5*sqrt(3)/6-sqrt(3)/2) + (n,m*sqrt(3))\n",
    "\n",
    "r0 = 0.6\n",
    "w = 0.15\n",
    "s = 0.3\n",
    "rho1['g'] = blob(x,y,Lx/2 -1/s ,Ly/2,r0,w) + blob(x,y,Lx/2 + 0.5/s,Ly/2+np.sqrt(3)/2/s,r0,w) + blob(x,y,Lx/2 + 0.5/s,Ly/2-np.sqrt(3)/2/s,r0,w)\n",
    "rho2['g'] = blob(x,y,Lx/2 +1/s,Ly/2,r0,w) + blob(x,y,Lx/2 - 0.5/s,Ly/2+np.sqrt(3)/2/s,r0,w) + blob(x,y,Lx/2 - 0.5/s,Ly/2-np.sqrt(3)/2/s,r0,w)"
   ]
  },
  {
   "cell_type": "code",
   "execution_count": null,
   "metadata": {},
   "outputs": [],
   "source": [
    "solver.stop_sim_time = 200\n",
    "dt = 0.4*Lx/nx"
   ]
  },
  {
   "cell_type": "code",
   "execution_count": null,
   "metadata": {},
   "outputs": [],
   "source": [
    "analysis = solver.evaluator.add_file_handler('square', sim_dt=2., max_writes=500)\n",
    "analysis.add_task('rho1')\n",
    "analysis.add_task('rho2')\n",
    "analysis.add_task('rhom')"
   ]
  },
  {
   "cell_type": "code",
   "execution_count": null,
   "metadata": {},
   "outputs": [],
   "source": [
    "logger.info('Starting loop')\n",
    "start_time = time.time()\n",
    "while solver.ok:\n",
    "    solver.step(dt)\n",
    "    if solver.iteration % 50 == 0:\n",
    "        logger.info('Iteration: %i, Time: %e, dt: %e' %(solver.iteration, solver.sim_time, dt))\n"
   ]
  },
  {
   "cell_type": "code",
   "execution_count": null,
   "metadata": {},
   "outputs": [],
   "source": [
    "from dedalus.tools import post\n",
    "post.merge_process_files(\"square\", cleanup=True)"
   ]
  },
  {
   "cell_type": "code",
   "execution_count": null,
   "metadata": {},
   "outputs": [],
   "source": []
  }
 ],
 "metadata": {
  "kernelspec": {
   "display_name": "dedalus",
   "language": "python",
   "name": "dedalus"
  },
  "language_info": {
   "codemirror_mode": {
    "name": "ipython",
    "version": 3
   },
   "file_extension": ".py",
   "mimetype": "text/x-python",
   "name": "python",
   "nbconvert_exporter": "python",
   "pygments_lexer": "ipython3",
   "version": "3.8.3"
  }
 },
 "nbformat": 4,
 "nbformat_minor": 4
}
