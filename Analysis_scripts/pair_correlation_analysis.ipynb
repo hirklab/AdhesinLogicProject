{
 "cells": [
  {
   "cell_type": "markdown",
   "metadata": {},
   "source": [
    "# Pair correlation functions"
   ]
  },
  {
   "cell_type": "code",
   "execution_count": 1,
   "metadata": {},
   "outputs": [],
   "source": [
    "import os\n",
    "import tifffile\n",
    "import numpy as np\n",
    "import matplotlib.pyplot as plt\n",
    "from skimage.measure import label, regionprops\n"
   ]
  },
  {
   "cell_type": "code",
   "execution_count": 2,
   "metadata": {},
   "outputs": [],
   "source": [
    "# Functions\n",
    "\n",
    "def compute_pair_corr(image_1, image_2):\n",
    "    # Given a pair of segmentation masks,\n",
    "    # return mixed species pair correlation between\n",
    "    # cells in the two images.\n",
    "    \n",
    "    # get list of centroids and cell density for each image\n",
    "    centroids_list1, density1 = image_to_centroids_and_density(image_1)\n",
    "    centroids_list2, density2 = image_to_centroids_and_density(image_2)\n",
    "    \n",
    "    # total cell density is sum of each channel\n",
    "    density = (density1 + density2)\n",
    "    \n",
    "    # max radius for searching pair correlation function is at most\n",
    "    # half the smallest image dimension\n",
    "    max_radius = np.min((np.min(image_1.shape), np.min(image_2.shape))) / 2\n",
    "    \n",
    "    # get mixed species pair correlation as list\n",
    "    corr = get_pairwise_dist_two_color(centroids_list1, centroids_list2, 1, density, max_radius)    \n",
    "    \n",
    "    return corr\n",
    "\n",
    "\n",
    "def image_to_centroids_and_density(image):\n",
    "    # Given a segmentation mask of cells,\n",
    "    # returns a list of cell centroids and the cell density\n",
    "    \n",
    "    # find cells using skimage label\n",
    "    label_img = label(image)\n",
    "    regions = regionprops(label_img)\n",
    "    \n",
    "    # get list of cell centroids\n",
    "    centroids_list = []\n",
    "    for region in regions:\n",
    "        centroids_list.append(region.centroid)\n",
    "    \n",
    "    # calculate cell density in image\n",
    "    density = len(centroids_list) / (np.shape(image)[0] * np.shape(image)[1])\n",
    "    \n",
    "    return centroids_list, density\n",
    "\n",
    "\n",
    "def get_pairwise_dist_two_color(points1, points2, dr, density, max_radius):\n",
    "    # Given a list of reference points and search points, a discretization size dr\n",
    "    # cell density in images, and a max search radius\n",
    "    # returns a normalized list of binned counts.\n",
    "    \n",
    "    # bin radial distances into size dr\n",
    "    binned_counts = [0] * int(max_radius / dr)\n",
    "    \n",
    "    # iterate over all points and update binned_counts \n",
    "    for i in range(len(points1)):\n",
    "        for j in range(len(points2)):\n",
    "            binned_counts = normalized_count(dr, points1[i], points2[j], binned_counts, max_radius)\n",
    "    \n",
    "    # normalize by total count\n",
    "    total_n = (len(points1) * len(points2)) / len(points1 + points2)\n",
    "    binned_counts = np.array(binned_counts) / total_n\n",
    "    \n",
    "    # normalize by average density\n",
    "    binned_counts = binned_counts / density\n",
    "\n",
    "    return binned_counts\n",
    "\n",
    "\n",
    "def normalized_count(dr, point1, point2, binned_counts, max_radius):\n",
    "    # Given a discretization size df, a reference point point1, \n",
    "    # a relative point point2, a list of binned counts,\n",
    "    # and the maximum search radius,\n",
    "    # returns binned_counts list incremented by a area normalized count\n",
    "    # if distance between points is less than the max_radius\n",
    "    \n",
    "    # calculate distance between points\n",
    "    distance = np.sqrt((point1[0] - point2[0])**2 + \n",
    "                       (point1[1] - point2[1])**2)\n",
    "    \n",
    "    # only update count if distance < max_radius\n",
    "    if distance < max_radius:\n",
    "        # convert distance to index in binned_counts\n",
    "        rad_index = int(distance/dr)\n",
    "        \n",
    "        # normalize count by radius and update binned_counts\n",
    "        ring_area = corrected_area(distance, point1, 1920, 2048) * np.pi*(((rad_index+1)*dr)**2 - ((rad_index)*dr)**2)\n",
    "        binned_counts[rad_index] += 1/ring_area\n",
    "    \n",
    "    return binned_counts\n",
    "\n",
    "\n",
    "def corrected_area(radius, point, max_x, max_y):\n",
    "    # Given a distance between points (radius), a reference point,\n",
    "    # and the max image dimensions,\n",
    "    # returns a corrected area that takes into account the search\n",
    "    # radius being clipped by the image boundaries.\n",
    "    \n",
    "    # check each quadrant of the circle\n",
    "    correction = [1,1,1,1] # quadrants starting TR - going CCW\n",
    "    \n",
    "    x_corrected_left = False\n",
    "    x_corrected_right = False\n",
    "    \n",
    "    # check if the distance of the reference point to the left \n",
    "    # image border is smaller than the search radius\n",
    "    # else, check if the distance of the reference point to the right \n",
    "    # image border is smaller than the search radius\n",
    "    if point[0] < radius: \n",
    "        correction[1] = get_subangle(radius, point[0], 0)\n",
    "        correction[2] = correction[1]\n",
    "        x_corrected_left = True\n",
    "    elif np.abs(max_x - point[0]) < radius:\n",
    "        correction[0] = get_subangle(radius, point[0], max_x)\n",
    "        correction[3] = correction[0]\n",
    "        x_corrected_right = True\n",
    "\n",
    "    # check again, this time for top and bottom borders\n",
    "    if point[1] < radius:\n",
    "        correction[2] = get_subangle(radius, point[1], 0)\n",
    "        correction[3] = correction[2]\n",
    "        if x_corrected_left:\n",
    "            correction[2] = 0\n",
    "        elif x_corrected_right:\n",
    "            correction[3] = 0\n",
    "    elif np.abs(max_y - point[1]) < radius:\n",
    "        correction[0] = get_subangle(radius, point[1], max_y)\n",
    "        correction[1] = correction[0]\n",
    "        if x_corrected_left:\n",
    "            correction[1] = 0\n",
    "        elif x_corrected_right:\n",
    "            correction[0] = 0    \n",
    "\n",
    "    return np.sum(correction) / 4\n",
    "\n",
    "    \n",
    "def get_subangle(radius, point, edge):\n",
    "    # Given a radial distance, a reference point, and image edge point\n",
    "    # returns corrected sector area\n",
    "    \n",
    "    return (np.pi/2 - np.arccos(np.abs(edge-point)/radius)) / (np.pi/2)\n"
   ]
  },
  {
   "cell_type": "code",
   "execution_count": 3,
   "metadata": {},
   "outputs": [
    {
     "name": "stdout",
     "output_type": "stream",
     "text": [
      "Calculating pair corr for: Ag2R_Ag2Y\n",
      "Calculating pair corr for: Ag2R_Nb2Y\n"
     ]
    }
   ],
   "source": [
    "# Compute mixed species pair correlation function between RFP and YFP cells\n",
    "\n",
    "segs_dir = os.path.normpath(r'ConfocalData')\n",
    "\n",
    "# Organize filenames by image stack\n",
    "organized_data = {}\n",
    "for im in os.listdir(segs_dir):\n",
    "    experiment_name = '_'.join(im.split('_')[0:2])\n",
    "    if experiment_name not in organized_data.keys():\n",
    "        organized_data[experiment_name] = []\n",
    "    organized_data[experiment_name].append(os.path.join(segs_dir, im))\n",
    "\n",
    "# Compute mixed species pair correlation function for each experiment\n",
    "pair_correlation_dict = {}\n",
    "for experiment_name in organized_data.keys():\n",
    "    print(f'Calculating pair corr for: {experiment_name}')\n",
    "    image_1 = tifffile.imread(organized_data[experiment_name][0])[128:,:]\n",
    "    image_2 = tifffile.imread(organized_data[experiment_name][1])[128:,:]\n",
    "    pair_correlation_dict[experiment_name] = compute_pair_corr(image_1, image_2)\n"
   ]
  },
  {
   "cell_type": "code",
   "execution_count": 4,
   "metadata": {},
   "outputs": [
    {
     "data": {
      "text/plain": [
       "Text(0, 0.5, 'Pair correlation')"
      ]
     },
     "execution_count": 4,
     "metadata": {},
     "output_type": "execute_result"
    },
    {
     "data": {
      "image/png": "[encoded data removed]",
      "text/plain": [
       "<Figure size 432x288 with 1 Axes>"
      ]
     },
     "metadata": {
      "needs_background": "light"
     },
     "output_type": "display_data"
    }
   ],
   "source": [
    "# Plot data\n",
    "\n",
    "mpp = 0.0992 #microns per pixel\n",
    "\n",
    "plt.figure()\n",
    "\n",
    "for experiment_name in pair_correlation_dict.keys():\n",
    "    plt.plot(mpp*np.linspace(0,200,200),\n",
    "             pair_correlation_dict[experiment_name][:200],\n",
    "             '.', label=experiment_name)\n",
    "\n",
    "plt.title(f'Mixed species pair correlation function')\n",
    "plt.legend(loc=\"upper right\")\n",
    "plt.xlabel('Radial distance ($um$)')\n",
    "plt.ylabel('Pair correlation')\n"
   ]
  }
 ],
 "metadata": {
  "kernelspec": {
   "display_name": "Python 3",
   "language": "python",
   "name": "python3"
  },
  "language_info": {
   "codemirror_mode": {
    "name": "ipython",
    "version": 3
   },
   "file_extension": ".py",
   "mimetype": "text/x-python",
   "name": "python",
   "nbconvert_exporter": "python",
   "pygments_lexer": "ipython3",
   "version": "3.8.5"
  }
 },
 "nbformat": 4,
 "nbformat_minor": 4
}
